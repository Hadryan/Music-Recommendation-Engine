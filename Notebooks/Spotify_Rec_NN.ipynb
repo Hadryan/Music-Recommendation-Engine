{
  "nbformat": 4,
  "nbformat_minor": 0,
  "metadata": {
    "colab": {
      "name": "Spotify Rec NN.ipynb",
      "provenance": []
    },
    "kernelspec": {
      "name": "python3",
      "display_name": "Python 3"
    }
  },
  "cells": [
    {
      "cell_type": "markdown",
      "metadata": {
        "id": "TMDW0v1XROm_",
        "colab_type": "text"
      },
      "source": [
        "## Imports"
      ]
    },
    {
      "cell_type": "code",
      "metadata": {
        "id": "8lgM2EHbRQ-_",
        "colab_type": "code",
        "outputId": "74c42380-a5aa-4d71-bb4f-1ce6a0be419a",
        "colab": {
          "base_uri": "https://localhost:8080/",
          "height": 195
        }
      },
      "source": [
        "!pip install spotipy\n",
        "# https://spotipy.readthedocs.io/en/2.12.0/"
      ],
      "execution_count": 0,
      "outputs": [
        {
          "output_type": "stream",
          "text": [
            "Collecting spotipy\n",
            "  Downloading https://files.pythonhosted.org/packages/b2/67/ea788ae3d7e3aad0b0ef72a4f5b6c24c1dbb3db83fd57efc221f86b4fe87/spotipy-2.12.0-py3-none-any.whl\n",
            "Requirement already satisfied: requests>=2.20.0 in /usr/local/lib/python3.6/dist-packages (from spotipy) (2.23.0)\n",
            "Requirement already satisfied: six>=1.10.0 in /usr/local/lib/python3.6/dist-packages (from spotipy) (1.12.0)\n",
            "Requirement already satisfied: chardet<4,>=3.0.2 in /usr/local/lib/python3.6/dist-packages (from requests>=2.20.0->spotipy) (3.0.4)\n",
            "Requirement already satisfied: certifi>=2017.4.17 in /usr/local/lib/python3.6/dist-packages (from requests>=2.20.0->spotipy) (2020.4.5.1)\n",
            "Requirement already satisfied: idna<3,>=2.5 in /usr/local/lib/python3.6/dist-packages (from requests>=2.20.0->spotipy) (2.9)\n",
            "Requirement already satisfied: urllib3!=1.25.0,!=1.25.1,<1.26,>=1.21.1 in /usr/local/lib/python3.6/dist-packages (from requests>=2.20.0->spotipy) (1.24.3)\n",
            "Installing collected packages: spotipy\n",
            "Successfully installed spotipy-2.12.0\n"
          ],
          "name": "stdout"
        }
      ]
    },
    {
      "cell_type": "code",
      "metadata": {
        "id": "T4i1KpT2RTrV",
        "colab_type": "code",
        "outputId": "2097414f-e7ea-44fb-a0e2-497cc5527f94",
        "colab": {
          "base_uri": "https://localhost:8080/",
          "height": 552
        }
      },
      "source": [
        "!pip install spotify"
      ],
      "execution_count": 0,
      "outputs": [
        {
          "output_type": "stream",
          "text": [
            "Collecting spotify\n",
            "\u001b[?25l  Downloading https://files.pythonhosted.org/packages/c6/a0/384d44f58c4cfc64b91337d8573cf89b6be0ac71fc08db4d09852ea85d4d/spotify-0.10.2-py3-none-any.whl (46kB)\n",
            "\u001b[K     |████████████████████████████████| 51kB 1.7MB/s \n",
            "\u001b[?25hCollecting aiohttp<4.0,>=3.6\n",
            "\u001b[?25l  Downloading https://files.pythonhosted.org/packages/7c/39/7eb5f98d24904e0f6d3edb505d4aa60e3ef83c0a58d6fe18244a51757247/aiohttp-3.6.2-cp36-cp36m-manylinux1_x86_64.whl (1.2MB)\n",
            "\u001b[K     |████████████████████████████████| 1.2MB 4.8MB/s \n",
            "\u001b[?25hCollecting backoff<2.0.0,>=1.10.0\n",
            "  Downloading https://files.pythonhosted.org/packages/f0/32/c5dd4f4b0746e9ec05ace2a5045c1fc375ae67ee94355344ad6c7005fd87/backoff-1.10.0-py2.py3-none-any.whl\n",
            "Requirement already satisfied: typing-extensions>=3.6.5; python_version < \"3.7\" in /usr/local/lib/python3.6/dist-packages (from aiohttp<4.0,>=3.6->spotify) (3.6.6)\n",
            "Requirement already satisfied: chardet<4.0,>=2.0 in /usr/local/lib/python3.6/dist-packages (from aiohttp<4.0,>=3.6->spotify) (3.0.4)\n",
            "Collecting idna-ssl>=1.0; python_version < \"3.7\"\n",
            "  Downloading https://files.pythonhosted.org/packages/46/03/07c4894aae38b0de52b52586b24bf189bb83e4ddabfe2e2c8f2419eec6f4/idna-ssl-1.1.0.tar.gz\n",
            "Collecting multidict<5.0,>=4.5\n",
            "\u001b[?25l  Downloading https://files.pythonhosted.org/packages/1a/95/f50352b5366e7d579e8b99631680a9e32e1b22adfa1629a8f23b1d22d5e2/multidict-4.7.6-cp36-cp36m-manylinux1_x86_64.whl (148kB)\n",
            "\u001b[K     |████████████████████████████████| 153kB 8.0MB/s \n",
            "\u001b[?25hCollecting async-timeout<4.0,>=3.0\n",
            "  Downloading https://files.pythonhosted.org/packages/e1/1e/5a4441be21b0726c4464f3f23c8b19628372f606755a9d2e46c187e65ec4/async_timeout-3.0.1-py3-none-any.whl\n",
            "Collecting yarl<2.0,>=1.0\n",
            "\u001b[?25l  Downloading https://files.pythonhosted.org/packages/95/8f/0209fc5d975f839344c33c822ff2f7ef80f6b1e984673a5a68f960bfa583/yarl-1.4.2-cp36-cp36m-manylinux1_x86_64.whl (252kB)\n",
            "\u001b[K     |████████████████████████████████| 256kB 8.8MB/s \n",
            "\u001b[?25hRequirement already satisfied: attrs>=17.3.0 in /usr/local/lib/python3.6/dist-packages (from aiohttp<4.0,>=3.6->spotify) (19.3.0)\n",
            "Requirement already satisfied: idna>=2.0 in /usr/local/lib/python3.6/dist-packages (from idna-ssl>=1.0; python_version < \"3.7\"->aiohttp<4.0,>=3.6->spotify) (2.9)\n",
            "Building wheels for collected packages: idna-ssl\n",
            "  Building wheel for idna-ssl (setup.py) ... \u001b[?25l\u001b[?25hdone\n",
            "  Created wheel for idna-ssl: filename=idna_ssl-1.1.0-cp36-none-any.whl size=3162 sha256=5bc58bcdf895a2e82fed4358c87b2ae0f6351ef5a28f60664860f67be5187013\n",
            "  Stored in directory: /root/.cache/pip/wheels/d3/00/b3/32d613e19e08a739751dd6bf998cfed277728f8b2127ad4eb7\n",
            "Successfully built idna-ssl\n",
            "Installing collected packages: idna-ssl, multidict, async-timeout, yarl, aiohttp, backoff, spotify\n",
            "Successfully installed aiohttp-3.6.2 async-timeout-3.0.1 backoff-1.10.0 idna-ssl-1.1.0 multidict-4.7.6 spotify-0.10.2 yarl-1.4.2\n"
          ],
          "name": "stdout"
        }
      ]
    },
    {
      "cell_type": "code",
      "metadata": {
        "id": "QD1XyjiAQ9j5",
        "colab_type": "code",
        "colab": {}
      },
      "source": [
        "import pandas as pd\n",
        "import numpy as np\n",
        "\n",
        "import spotipy\n",
        "from spotipy import oauth2, Spotify\n",
        "\n",
        "from sklearn.preprocessing import scale\n",
        "from sklearn.preprocessing import MinMaxScaler\n",
        "from sklearn.preprocessing import StandardScaler\n",
        "from sklearn.model_selection import train_test_split\n",
        "from sklearn.preprocessing import scale, LabelEncoder\n",
        "\n",
        "import tensorflow as tf\n",
        "from keras.models import Sequential\n",
        "from keras.layers import Dense, Flatten\n",
        "from sklearn.preprocessing import scale\n",
        "from tensorflow.keras.optimizers import Adam\n",
        "\n",
        "import joblib"
      ],
      "execution_count": 0,
      "outputs": []
    },
    {
      "cell_type": "markdown",
      "metadata": {
        "id": "QKT360cWRL78",
        "colab_type": "text"
      },
      "source": [
        "## Spotify Authentication"
      ]
    },
    {
      "cell_type": "code",
      "metadata": {
        "id": "LwLcujQSRY3X",
        "colab_type": "code",
        "colab": {}
      },
      "source": [
        "# Spotify API authentication\n",
        "cid ='555816fae63a45f29f50f99bbc81393d'\n",
        "secret ='008dc4e8c3e3470c97392be068578540'\n",
        "\n",
        "credentials = oauth2.SpotifyClientCredentials(client_id=cid, client_secret=secret)\n",
        "sp = spotipy.Spotify(client_credentials_manager=credentials)"
      ],
      "execution_count": 0,
      "outputs": []
    },
    {
      "cell_type": "markdown",
      "metadata": {
        "id": "zS_Y96qkRdi-",
        "colab_type": "text"
      },
      "source": [
        "## Track Info Functions"
      ]
    },
    {
      "cell_type": "code",
      "metadata": {
        "id": "o05CapOeRfne",
        "colab_type": "code",
        "colab": {}
      },
      "source": [
        "def fetch_info(artist_name, track_name):\n",
        "  \"\"\"\n",
        "  function to retrieve relevant info on user's input from the Spotify API\n",
        "  user inputs artist name and track name\n",
        "  fxn gets info including the unique track id, album name, id, and cover image,\n",
        "  a sample of the track if exists, and audio feature data for the track\n",
        "  \"\"\"\n",
        "  data = sp.search(q=f'artist:{artist_name} track:{track_name}')\n",
        "  artist_name = data['tracks']['items'][0]['artists'][0]['name']\n",
        "  track_name = data['tracks']['items'][0]['name']\n",
        "  track_id = data['tracks']['items'][0]['id']   \n",
        "  album_name = data['tracks']['items'][0]['album']['name']\n",
        "  album_id = data['tracks']['items'][0]['album']['id']\n",
        "  album_cover_link = data['tracks']['items'][0]['album']['images'][0]['url']\n",
        "  track_sample = data['tracks']['items'][0]['preview_url']\n",
        "  audio_features = sp.audio_features(track_id)\n",
        "  audio_features = audio_features[0] # changes the provided list from spotify into a dictionary\n",
        "  irrelevant = [\"id\", \"uri\", \"analysis_url\", \"type\", \"track_href\"]\n",
        "  for key in irrelevant:\n",
        "    del audio_features[key]\n",
        "  #audio_features = jsonify(audio_features) in FLASK app\n",
        "  return track_name, artist_name, track_id, album_name, album_id, album_cover_link, track_sample, audio_features"
      ],
      "execution_count": 0,
      "outputs": []
    },
    {
      "cell_type": "code",
      "metadata": {
        "id": "aNKwTE-ARqHu",
        "colab_type": "code",
        "outputId": "27b91a2e-bc20-47de-9608-6982aa2900b2",
        "colab": {
          "base_uri": "https://localhost:8080/",
          "height": 372
        }
      },
      "source": [
        "fetch_info(\"Tame Impala\", \"Borderline\")"
      ],
      "execution_count": 0,
      "outputs": [
        {
          "output_type": "execute_result",
          "data": {
            "text/plain": [
              "('Borderline',\n",
              " 'Tame Impala',\n",
              " '5hM5arv9KDbCHS0k9uqwjr',\n",
              " 'The Slow Rush',\n",
              " '31qVWUdRrlb8thMvts0yYL',\n",
              " 'https://i.scdn.co/image/ab67616d0000b27358267bd34420a00d5cf83a49',\n",
              " None,\n",
              " {'acousticness': 0.0406,\n",
              "  'danceability': 0.621,\n",
              "  'duration_ms': 237800,\n",
              "  'energy': 0.873,\n",
              "  'instrumentalness': 9.1e-06,\n",
              "  'key': 5,\n",
              "  'liveness': 0.0824,\n",
              "  'loudness': -3.067,\n",
              "  'mode': 0,\n",
              "  'speechiness': 0.0369,\n",
              "  'tempo': 97.96,\n",
              "  'time_signature': 4,\n",
              "  'valence': 0.873})"
            ]
          },
          "metadata": {
            "tags": []
          },
          "execution_count": 7
        }
      ]
    },
    {
      "cell_type": "code",
      "metadata": {
        "id": "isZc7w-XRtY6",
        "colab_type": "code",
        "colab": {}
      },
      "source": [
        "def track_feat(track_id):\n",
        "  \"\"\"\n",
        "  function to retrieve relevant info from track ID and store it in a df\n",
        "  \"\"\"\n",
        "  track_features = sp.audio_features(track_id)\n",
        "  track_features = pd.DataFrame(track_features[0], index=[0])\n",
        "  track_features = track_features.drop(columns=[\"id\", \"uri\", \"analysis_url\", \"type\", \"track_href\", \"duration_ms\", \"time_signature\"])\n",
        "  return track_features"
      ],
      "execution_count": 0,
      "outputs": []
    },
    {
      "cell_type": "code",
      "metadata": {
        "id": "D81nrWunR9vh",
        "colab_type": "code",
        "outputId": "bf5ad6aa-3580-4dc3-d99e-eddec67666fd",
        "colab": {
          "base_uri": "https://localhost:8080/",
          "height": 78
        }
      },
      "source": [
        "track_feat('5hM5arv9KDbCHS0k9uqwjr')"
      ],
      "execution_count": 0,
      "outputs": [
        {
          "output_type": "execute_result",
          "data": {
            "text/html": [
              "<div>\n",
              "<style scoped>\n",
              "    .dataframe tbody tr th:only-of-type {\n",
              "        vertical-align: middle;\n",
              "    }\n",
              "\n",
              "    .dataframe tbody tr th {\n",
              "        vertical-align: top;\n",
              "    }\n",
              "\n",
              "    .dataframe thead th {\n",
              "        text-align: right;\n",
              "    }\n",
              "</style>\n",
              "<table border=\"1\" class=\"dataframe\">\n",
              "  <thead>\n",
              "    <tr style=\"text-align: right;\">\n",
              "      <th></th>\n",
              "      <th>danceability</th>\n",
              "      <th>energy</th>\n",
              "      <th>key</th>\n",
              "      <th>loudness</th>\n",
              "      <th>mode</th>\n",
              "      <th>speechiness</th>\n",
              "      <th>acousticness</th>\n",
              "      <th>instrumentalness</th>\n",
              "      <th>liveness</th>\n",
              "      <th>valence</th>\n",
              "      <th>tempo</th>\n",
              "    </tr>\n",
              "  </thead>\n",
              "  <tbody>\n",
              "    <tr>\n",
              "      <th>0</th>\n",
              "      <td>0.621</td>\n",
              "      <td>0.873</td>\n",
              "      <td>5</td>\n",
              "      <td>-3.067</td>\n",
              "      <td>0</td>\n",
              "      <td>0.0369</td>\n",
              "      <td>0.0406</td>\n",
              "      <td>0.000009</td>\n",
              "      <td>0.0824</td>\n",
              "      <td>0.873</td>\n",
              "      <td>97.96</td>\n",
              "    </tr>\n",
              "  </tbody>\n",
              "</table>\n",
              "</div>"
            ],
            "text/plain": [
              "   danceability  energy  key  ...  liveness  valence  tempo\n",
              "0         0.621   0.873    5  ...    0.0824    0.873  97.96\n",
              "\n",
              "[1 rows x 11 columns]"
            ]
          },
          "metadata": {
            "tags": []
          },
          "execution_count": 9
        }
      ]
    },
    {
      "cell_type": "markdown",
      "metadata": {
        "id": "NSjjoYHCSRmI",
        "colab_type": "text"
      },
      "source": [
        "## Database\n"
      ]
    },
    {
      "cell_type": "code",
      "metadata": {
        "id": "S7GAgg5LSS0S",
        "colab_type": "code",
        "outputId": "7f1d4112-7a4a-4959-da92-158cc65216a5",
        "colab": {
          "base_uri": "https://localhost:8080/"
        }
      },
      "source": [
        "# 5/27 created new dataset with top tracks from the past two years\n",
        "\n",
        "tracks = pd.read_csv(\"https://raw.githubusercontent.com/Build-Week-Spotify-Song-Suggester-2/datascience/master/SpotifyTrackFeatures.csv\", error_bad_lines=False)\n",
        "print(tracks.shape)\n",
        "tracks.head()"
      ],
      "execution_count": 0,
      "outputs": [
        {
          "output_type": "stream",
          "text": [
            "(120104, 17)\n"
          ],
          "name": "stdout"
        },
        {
          "output_type": "execute_result",
          "data": {
            "text/html": [
              "<div>\n",
              "<style scoped>\n",
              "    .dataframe tbody tr th:only-of-type {\n",
              "        vertical-align: middle;\n",
              "    }\n",
              "\n",
              "    .dataframe tbody tr th {\n",
              "        vertical-align: top;\n",
              "    }\n",
              "\n",
              "    .dataframe thead th {\n",
              "        text-align: right;\n",
              "    }\n",
              "</style>\n",
              "<table border=\"1\" class=\"dataframe\">\n",
              "  <thead>\n",
              "    <tr style=\"text-align: right;\">\n",
              "      <th></th>\n",
              "      <th>artist_name</th>\n",
              "      <th>track_id</th>\n",
              "      <th>track_name</th>\n",
              "      <th>acousticness</th>\n",
              "      <th>danceability</th>\n",
              "      <th>duration_ms</th>\n",
              "      <th>energy</th>\n",
              "      <th>instrumentalness</th>\n",
              "      <th>key</th>\n",
              "      <th>liveness</th>\n",
              "      <th>loudness</th>\n",
              "      <th>mode</th>\n",
              "      <th>speechiness</th>\n",
              "      <th>tempo</th>\n",
              "      <th>time_signature</th>\n",
              "      <th>valence</th>\n",
              "      <th>popularity</th>\n",
              "    </tr>\n",
              "  </thead>\n",
              "  <tbody>\n",
              "    <tr>\n",
              "      <th>0</th>\n",
              "      <td>YG</td>\n",
              "      <td>2RM4jf1Xa9zPgMGRDiht8O</td>\n",
              "      <td>Big Bank feat. 2 Chainz, Big Sean, Nicki Minaj</td>\n",
              "      <td>0.005820</td>\n",
              "      <td>0.743</td>\n",
              "      <td>238373.0</td>\n",
              "      <td>0.339</td>\n",
              "      <td>0.000</td>\n",
              "      <td>1</td>\n",
              "      <td>0.0812</td>\n",
              "      <td>-7.678</td>\n",
              "      <td>1.0</td>\n",
              "      <td>0.4090</td>\n",
              "      <td>203.927</td>\n",
              "      <td>4.0</td>\n",
              "      <td>0.118</td>\n",
              "      <td>44</td>\n",
              "    </tr>\n",
              "    <tr>\n",
              "      <th>1</th>\n",
              "      <td>YG</td>\n",
              "      <td>1tHDG53xJNGsItRA3vfVgs</td>\n",
              "      <td>BAND DRUM (feat. A$AP Rocky)</td>\n",
              "      <td>0.024400</td>\n",
              "      <td>0.846</td>\n",
              "      <td>214800.0</td>\n",
              "      <td>0.557</td>\n",
              "      <td>0.000</td>\n",
              "      <td>8</td>\n",
              "      <td>0.2860</td>\n",
              "      <td>-7.259</td>\n",
              "      <td>1.0</td>\n",
              "      <td>0.4570</td>\n",
              "      <td>159.009</td>\n",
              "      <td>4.0</td>\n",
              "      <td>0.371</td>\n",
              "      <td>10</td>\n",
              "    </tr>\n",
              "    <tr>\n",
              "      <th>2</th>\n",
              "      <td>R3HAB</td>\n",
              "      <td>6Wosx2euFPMT14UXiWudMy</td>\n",
              "      <td>Radio Silence</td>\n",
              "      <td>0.025000</td>\n",
              "      <td>0.603</td>\n",
              "      <td>138913.0</td>\n",
              "      <td>0.723</td>\n",
              "      <td>0.000</td>\n",
              "      <td>9</td>\n",
              "      <td>0.0824</td>\n",
              "      <td>-5.890</td>\n",
              "      <td>0.0</td>\n",
              "      <td>0.0454</td>\n",
              "      <td>114.966</td>\n",
              "      <td>4.0</td>\n",
              "      <td>0.382</td>\n",
              "      <td>63</td>\n",
              "    </tr>\n",
              "    <tr>\n",
              "      <th>3</th>\n",
              "      <td>Chris Cooq</td>\n",
              "      <td>3J2Jpw61sO7l6Hc7qdYV91</td>\n",
              "      <td>Lactose</td>\n",
              "      <td>0.029400</td>\n",
              "      <td>0.800</td>\n",
              "      <td>125381.0</td>\n",
              "      <td>0.579</td>\n",
              "      <td>0.912</td>\n",
              "      <td>5</td>\n",
              "      <td>0.0994</td>\n",
              "      <td>-12.118</td>\n",
              "      <td>0.0</td>\n",
              "      <td>0.0701</td>\n",
              "      <td>123.003</td>\n",
              "      <td>4.0</td>\n",
              "      <td>0.641</td>\n",
              "      <td>9</td>\n",
              "    </tr>\n",
              "    <tr>\n",
              "      <th>4</th>\n",
              "      <td>Chris Cooq</td>\n",
              "      <td>2jbYvQCyPgX3CdmAzeVeuS</td>\n",
              "      <td>Same - Original mix</td>\n",
              "      <td>0.000035</td>\n",
              "      <td>0.783</td>\n",
              "      <td>124016.0</td>\n",
              "      <td>0.792</td>\n",
              "      <td>0.878</td>\n",
              "      <td>7</td>\n",
              "      <td>0.0332</td>\n",
              "      <td>-10.277</td>\n",
              "      <td>1.0</td>\n",
              "      <td>0.0661</td>\n",
              "      <td>120.047</td>\n",
              "      <td>4.0</td>\n",
              "      <td>0.928</td>\n",
              "      <td>8</td>\n",
              "    </tr>\n",
              "  </tbody>\n",
              "</table>\n",
              "</div>"
            ],
            "text/plain": [
              "  artist_name                track_id  ... valence  popularity\n",
              "0          YG  2RM4jf1Xa9zPgMGRDiht8O  ...   0.118          44\n",
              "1          YG  1tHDG53xJNGsItRA3vfVgs  ...   0.371          10\n",
              "2       R3HAB  6Wosx2euFPMT14UXiWudMy  ...   0.382          63\n",
              "3  Chris Cooq  3J2Jpw61sO7l6Hc7qdYV91  ...   0.641           9\n",
              "4  Chris Cooq  2jbYvQCyPgX3CdmAzeVeuS  ...   0.928           8\n",
              "\n",
              "[5 rows x 17 columns]"
            ]
          },
          "metadata": {
            "tags": []
          },
          "execution_count": 10
        }
      ]
    },
    {
      "cell_type": "code",
      "metadata": {
        "id": "AkhQPvNeSV0-",
        "colab_type": "code",
        "outputId": "5fa8003e-883d-4eb5-eebd-65d0fdf38ba3",
        "colab": {
          "base_uri": "https://localhost:8080/"
        }
      },
      "source": [
        "tracks = pd.DataFrame(tracks)\n",
        "tracks.dtypes"
      ],
      "execution_count": 0,
      "outputs": [
        {
          "output_type": "execute_result",
          "data": {
            "text/plain": [
              "artist_name          object\n",
              "track_id             object\n",
              "track_name           object\n",
              "acousticness        float64\n",
              "danceability        float64\n",
              "duration_ms         float64\n",
              "energy              float64\n",
              "instrumentalness    float64\n",
              "key                   int64\n",
              "liveness            float64\n",
              "loudness            float64\n",
              "mode                float64\n",
              "speechiness         float64\n",
              "tempo               float64\n",
              "time_signature      float64\n",
              "valence             float64\n",
              "popularity            int64\n",
              "dtype: object"
            ]
          },
          "metadata": {
            "tags": []
          },
          "execution_count": 11
        }
      ]
    },
    {
      "cell_type": "code",
      "metadata": {
        "id": "0HQ6X9kOPIbj",
        "colab_type": "code",
        "outputId": "738910f5-7caa-4356-db09-140b60926f9a",
        "colab": {
          "base_uri": "https://localhost:8080/"
        }
      },
      "source": [
        "tracks = tracks.drop_duplicates(['track_id'])\n",
        "tracks.shape"
      ],
      "execution_count": 0,
      "outputs": [
        {
          "output_type": "execute_result",
          "data": {
            "text/plain": [
              "(119923, 17)"
            ]
          },
          "metadata": {
            "tags": []
          },
          "execution_count": 12
        }
      ]
    },
    {
      "cell_type": "markdown",
      "metadata": {
        "id": "bWkgGhtbEJNY",
        "colab_type": "text"
      },
      "source": [
        "# Neural Network\n",
        "\n",
        "\n",
        "Neural networks do not work better than traditional statistical algorithms on tabular numeric data, especially of such a small size (~120k rows). But I'm attempting one anyway. "
      ]
    },
    {
      "cell_type": "code",
      "metadata": {
        "id": "IkpeMTM8RinT",
        "colab_type": "code",
        "outputId": "09bddc63-25a7-43ff-a5af-b50e607b3d8c",
        "colab": {
          "base_uri": "https://localhost:8080/",
          "height": 373
        }
      },
      "source": [
        "tracks.head()"
      ],
      "execution_count": 0,
      "outputs": [
        {
          "output_type": "execute_result",
          "data": {
            "text/html": [
              "<div>\n",
              "<style scoped>\n",
              "    .dataframe tbody tr th:only-of-type {\n",
              "        vertical-align: middle;\n",
              "    }\n",
              "\n",
              "    .dataframe tbody tr th {\n",
              "        vertical-align: top;\n",
              "    }\n",
              "\n",
              "    .dataframe thead th {\n",
              "        text-align: right;\n",
              "    }\n",
              "</style>\n",
              "<table border=\"1\" class=\"dataframe\">\n",
              "  <thead>\n",
              "    <tr style=\"text-align: right;\">\n",
              "      <th></th>\n",
              "      <th>artist_name</th>\n",
              "      <th>track_id</th>\n",
              "      <th>track_name</th>\n",
              "      <th>acousticness</th>\n",
              "      <th>danceability</th>\n",
              "      <th>duration_ms</th>\n",
              "      <th>energy</th>\n",
              "      <th>instrumentalness</th>\n",
              "      <th>key</th>\n",
              "      <th>liveness</th>\n",
              "      <th>loudness</th>\n",
              "      <th>mode</th>\n",
              "      <th>speechiness</th>\n",
              "      <th>tempo</th>\n",
              "      <th>time_signature</th>\n",
              "      <th>valence</th>\n",
              "      <th>popularity</th>\n",
              "    </tr>\n",
              "  </thead>\n",
              "  <tbody>\n",
              "    <tr>\n",
              "      <th>0</th>\n",
              "      <td>YG</td>\n",
              "      <td>2RM4jf1Xa9zPgMGRDiht8O</td>\n",
              "      <td>Big Bank feat. 2 Chainz, Big Sean, Nicki Minaj</td>\n",
              "      <td>0.005820</td>\n",
              "      <td>0.743</td>\n",
              "      <td>238373.0</td>\n",
              "      <td>0.339</td>\n",
              "      <td>0.000</td>\n",
              "      <td>1.0</td>\n",
              "      <td>0.0812</td>\n",
              "      <td>-7.678</td>\n",
              "      <td>1.0</td>\n",
              "      <td>0.4090</td>\n",
              "      <td>203.927</td>\n",
              "      <td>4.0</td>\n",
              "      <td>0.118</td>\n",
              "      <td>44</td>\n",
              "    </tr>\n",
              "    <tr>\n",
              "      <th>1</th>\n",
              "      <td>YG</td>\n",
              "      <td>1tHDG53xJNGsItRA3vfVgs</td>\n",
              "      <td>BAND DRUM (feat. A$AP Rocky)</td>\n",
              "      <td>0.024400</td>\n",
              "      <td>0.846</td>\n",
              "      <td>214800.0</td>\n",
              "      <td>0.557</td>\n",
              "      <td>0.000</td>\n",
              "      <td>8.0</td>\n",
              "      <td>0.2860</td>\n",
              "      <td>-7.259</td>\n",
              "      <td>1.0</td>\n",
              "      <td>0.4570</td>\n",
              "      <td>159.009</td>\n",
              "      <td>4.0</td>\n",
              "      <td>0.371</td>\n",
              "      <td>10</td>\n",
              "    </tr>\n",
              "    <tr>\n",
              "      <th>2</th>\n",
              "      <td>R3HAB</td>\n",
              "      <td>6Wosx2euFPMT14UXiWudMy</td>\n",
              "      <td>Radio Silence</td>\n",
              "      <td>0.025000</td>\n",
              "      <td>0.603</td>\n",
              "      <td>138913.0</td>\n",
              "      <td>0.723</td>\n",
              "      <td>0.000</td>\n",
              "      <td>9.0</td>\n",
              "      <td>0.0824</td>\n",
              "      <td>-5.890</td>\n",
              "      <td>0.0</td>\n",
              "      <td>0.0454</td>\n",
              "      <td>114.966</td>\n",
              "      <td>4.0</td>\n",
              "      <td>0.382</td>\n",
              "      <td>63</td>\n",
              "    </tr>\n",
              "    <tr>\n",
              "      <th>3</th>\n",
              "      <td>Chris Cooq</td>\n",
              "      <td>3J2Jpw61sO7l6Hc7qdYV91</td>\n",
              "      <td>Lactose</td>\n",
              "      <td>0.029400</td>\n",
              "      <td>0.800</td>\n",
              "      <td>125381.0</td>\n",
              "      <td>0.579</td>\n",
              "      <td>0.912</td>\n",
              "      <td>5.0</td>\n",
              "      <td>0.0994</td>\n",
              "      <td>-12.118</td>\n",
              "      <td>0.0</td>\n",
              "      <td>0.0701</td>\n",
              "      <td>123.003</td>\n",
              "      <td>4.0</td>\n",
              "      <td>0.641</td>\n",
              "      <td>9</td>\n",
              "    </tr>\n",
              "    <tr>\n",
              "      <th>4</th>\n",
              "      <td>Chris Cooq</td>\n",
              "      <td>2jbYvQCyPgX3CdmAzeVeuS</td>\n",
              "      <td>Same - Original mix</td>\n",
              "      <td>0.000035</td>\n",
              "      <td>0.783</td>\n",
              "      <td>124016.0</td>\n",
              "      <td>0.792</td>\n",
              "      <td>0.878</td>\n",
              "      <td>7.0</td>\n",
              "      <td>0.0332</td>\n",
              "      <td>-10.277</td>\n",
              "      <td>1.0</td>\n",
              "      <td>0.0661</td>\n",
              "      <td>120.047</td>\n",
              "      <td>4.0</td>\n",
              "      <td>0.928</td>\n",
              "      <td>8</td>\n",
              "    </tr>\n",
              "  </tbody>\n",
              "</table>\n",
              "</div>"
            ],
            "text/plain": [
              "  artist_name                track_id  ... valence  popularity\n",
              "0          YG  2RM4jf1Xa9zPgMGRDiht8O  ...   0.118          44\n",
              "1          YG  1tHDG53xJNGsItRA3vfVgs  ...   0.371          10\n",
              "2       R3HAB  6Wosx2euFPMT14UXiWudMy  ...   0.382          63\n",
              "3  Chris Cooq  3J2Jpw61sO7l6Hc7qdYV91  ...   0.641           9\n",
              "4  Chris Cooq  2jbYvQCyPgX3CdmAzeVeuS  ...   0.928           8\n",
              "\n",
              "[5 rows x 17 columns]"
            ]
          },
          "metadata": {
            "tags": []
          },
          "execution_count": 19
        }
      ]
    },
    {
      "cell_type": "code",
      "metadata": {
        "id": "8sjMKRthENsL",
        "colab_type": "code",
        "colab": {}
      },
      "source": [
        "# numeric data\n",
        "# scale it\n",
        "numeric_features = ['acousticness','danceability','energy','instrumentalness',\n",
        "                      'key', 'liveness', 'loudness','mode','speechiness', 'tempo', 'valence']\n",
        "tracks[numeric_features] = tracks[numeric_features].astype(float)\n",
        "numeric_features_scaled = scale(tracks[numeric_features])\n",
        "tracks[numeric_features] = numeric_features_scaled"
      ],
      "execution_count": 0,
      "outputs": []
    },
    {
      "cell_type": "code",
      "metadata": {
        "id": "pJpiefNlE4b9",
        "colab_type": "code",
        "colab": {}
      },
      "source": [
        "# encode artists so they can be included \n",
        "encoder = LabelEncoder()\n",
        "enc_feat = encoder.fit_transform(tracks['artist_name'])\n",
        "tracks['artist_enc'] = enc_feat"
      ],
      "execution_count": 0,
      "outputs": []
    },
    {
      "cell_type": "code",
      "metadata": {
        "id": "LelmHXlhQ44B",
        "colab_type": "code",
        "outputId": "c7d44daa-961f-4766-cf3d-bd1ca4116aa5",
        "colab": {
          "base_uri": "https://localhost:8080/",
          "height": 372
        }
      },
      "source": [
        "# add encoded artists to features to input\n",
        "data_features = ['artist_enc', 'acousticness','danceability','energy','instrumentalness',\n",
        "                      'key', 'liveness', 'loudness','mode','speechiness', 'tempo', 'valence']\n",
        "tracks.dtypes"
      ],
      "execution_count": 0,
      "outputs": [
        {
          "output_type": "execute_result",
          "data": {
            "text/plain": [
              "artist_name          object\n",
              "track_id             object\n",
              "track_name           object\n",
              "acousticness        float64\n",
              "danceability        float64\n",
              "duration_ms         float64\n",
              "energy              float64\n",
              "instrumentalness    float64\n",
              "key                 float64\n",
              "liveness            float64\n",
              "loudness            float64\n",
              "mode                float64\n",
              "speechiness         float64\n",
              "tempo               float64\n",
              "time_signature      float64\n",
              "valence             float64\n",
              "popularity            int64\n",
              "artists_enc           int64\n",
              "artist_enc            int64\n",
              "dtype: object"
            ]
          },
          "metadata": {
            "tags": []
          },
          "execution_count": 26
        }
      ]
    },
    {
      "cell_type": "code",
      "metadata": {
        "id": "GlFB9AKfSyPI",
        "colab_type": "code",
        "outputId": "50e882a0-81cc-4b71-d7bc-aebe223a68a2",
        "colab": {
          "base_uri": "https://localhost:8080/",
          "height": 248
        }
      },
      "source": [
        "tracks[data_features] = tracks[data_features].astype(float)\n",
        "num_features = tracks[data_features].astype(float)\n",
        "# make all dtypes float\n",
        "num_features.dtypes"
      ],
      "execution_count": 0,
      "outputs": [
        {
          "output_type": "execute_result",
          "data": {
            "text/plain": [
              "artist_enc          float64\n",
              "acousticness        float64\n",
              "danceability        float64\n",
              "energy              float64\n",
              "instrumentalness    float64\n",
              "key                 float64\n",
              "liveness            float64\n",
              "loudness            float64\n",
              "mode                float64\n",
              "speechiness         float64\n",
              "tempo               float64\n",
              "valence             float64\n",
              "dtype: object"
            ]
          },
          "metadata": {
            "tags": []
          },
          "execution_count": 28
        }
      ]
    },
    {
      "cell_type": "code",
      "metadata": {
        "id": "z51G1xjiUr4e",
        "colab_type": "code",
        "outputId": "68e7abab-ee35-4d38-c351-3c8860e9d09a",
        "colab": {
          "base_uri": "https://localhost:8080/",
          "height": 35
        }
      },
      "source": [
        "num_features.shape"
      ],
      "execution_count": 0,
      "outputs": [
        {
          "output_type": "execute_result",
          "data": {
            "text/plain": [
              "(119923, 12)"
            ]
          },
          "metadata": {
            "tags": []
          },
          "execution_count": 29
        }
      ]
    },
    {
      "cell_type": "code",
      "metadata": {
        "id": "HfXV3cuAVW9L",
        "colab_type": "code",
        "outputId": "212e3ca9-b7b8-4dc0-f359-51a133c35d98",
        "colab": {
          "base_uri": "https://localhost:8080/",
          "height": 35
        }
      },
      "source": [
        "tracks.shape"
      ],
      "execution_count": 0,
      "outputs": [
        {
          "output_type": "execute_result",
          "data": {
            "text/plain": [
              "(119923, 19)"
            ]
          },
          "metadata": {
            "tags": []
          },
          "execution_count": 35
        }
      ]
    },
    {
      "cell_type": "code",
      "metadata": {
        "id": "g9Q6wXyAUepA",
        "colab_type": "code",
        "colab": {}
      },
      "source": [
        "model = Sequential()\n",
        "model.add(Dense(input_shape=(num_features.shape[1],), activation='relu',\n",
        "          units=tracks.shape[0], use_bias=False))\n",
        "# instantiated simple model"
      ],
      "execution_count": 0,
      "outputs": []
    },
    {
      "cell_type": "code",
      "metadata": {
        "id": "JcZe4F9pVEjp",
        "colab_type": "code",
        "outputId": "6f917643-bf27-408b-c77c-5ae9763a87f3",
        "colab": {
          "base_uri": "https://localhost:8080/",
          "height": 195
        }
      },
      "source": [
        "model.summary()"
      ],
      "execution_count": 0,
      "outputs": [
        {
          "output_type": "stream",
          "text": [
            "Model: \"sequential_1\"\n",
            "_________________________________________________________________\n",
            "Layer (type)                 Output Shape              Param #   \n",
            "=================================================================\n",
            "dense_1 (Dense)              (None, 119923)            1439076   \n",
            "=================================================================\n",
            "Total params: 1,439,076\n",
            "Trainable params: 1,439,076\n",
            "Non-trainable params: 0\n",
            "_________________________________________________________________\n"
          ],
          "name": "stdout"
        }
      ]
    },
    {
      "cell_type": "code",
      "metadata": {
        "id": "MZH3XRoMENun",
        "colab_type": "code",
        "colab": {}
      },
      "source": [
        "# create and normalize vectors\n",
        "def normie(vect):\n",
        "  norm_vect = np.linalg.norm(vect, axis=1, keepdims=True)\n",
        "  return (vect / norm_vect)"
      ],
      "execution_count": 0,
      "outputs": []
    },
    {
      "cell_type": "code",
      "metadata": {
        "id": "z9szkT7cENxC",
        "colab_type": "code",
        "outputId": "c2fdfc22-bee9-4fb7-eabe-783082761ac3",
        "colab": {
          "base_uri": "https://localhost:8080/",
          "height": 200
        }
      },
      "source": [
        "norm_track_feat = normie(num_features)\n",
        "norm_track_feat.head()"
      ],
      "execution_count": 0,
      "outputs": [
        {
          "output_type": "execute_result",
          "data": {
            "text/html": [
              "<div>\n",
              "<style scoped>\n",
              "    .dataframe tbody tr th:only-of-type {\n",
              "        vertical-align: middle;\n",
              "    }\n",
              "\n",
              "    .dataframe tbody tr th {\n",
              "        vertical-align: top;\n",
              "    }\n",
              "\n",
              "    .dataframe thead th {\n",
              "        text-align: right;\n",
              "    }\n",
              "</style>\n",
              "<table border=\"1\" class=\"dataframe\">\n",
              "  <thead>\n",
              "    <tr style=\"text-align: right;\">\n",
              "      <th></th>\n",
              "      <th>artist_enc</th>\n",
              "      <th>acousticness</th>\n",
              "      <th>danceability</th>\n",
              "      <th>energy</th>\n",
              "      <th>instrumentalness</th>\n",
              "      <th>key</th>\n",
              "      <th>liveness</th>\n",
              "      <th>loudness</th>\n",
              "      <th>mode</th>\n",
              "      <th>speechiness</th>\n",
              "      <th>tempo</th>\n",
              "      <th>valence</th>\n",
              "    </tr>\n",
              "  </thead>\n",
              "  <tbody>\n",
              "    <tr>\n",
              "      <th>0</th>\n",
              "      <td>1.0</td>\n",
              "      <td>-0.000007</td>\n",
              "      <td>0.000027</td>\n",
              "      <td>-1.144022e-05</td>\n",
              "      <td>5.330098e-07</td>\n",
              "      <td>-0.000036</td>\n",
              "      <td>-0.000021</td>\n",
              "      <td>0.000009</td>\n",
              "      <td>0.000027</td>\n",
              "      <td>0.000076</td>\n",
              "      <td>0.000078</td>\n",
              "      <td>-0.000006</td>\n",
              "    </tr>\n",
              "    <tr>\n",
              "      <th>1</th>\n",
              "      <td>1.0</td>\n",
              "      <td>-0.000007</td>\n",
              "      <td>0.000044</td>\n",
              "      <td>-4.822872e-06</td>\n",
              "      <td>5.330098e-07</td>\n",
              "      <td>0.000026</td>\n",
              "      <td>0.000018</td>\n",
              "      <td>0.000011</td>\n",
              "      <td>0.000027</td>\n",
              "      <td>0.000088</td>\n",
              "      <td>0.000038</td>\n",
              "      <td>-0.000006</td>\n",
              "    </tr>\n",
              "    <tr>\n",
              "      <th>2</th>\n",
              "      <td>1.0</td>\n",
              "      <td>-0.000009</td>\n",
              "      <td>0.000004</td>\n",
              "      <td>2.901862e-07</td>\n",
              "      <td>7.159827e-07</td>\n",
              "      <td>0.000046</td>\n",
              "      <td>-0.000029</td>\n",
              "      <td>0.000024</td>\n",
              "      <td>-0.000052</td>\n",
              "      <td>-0.000024</td>\n",
              "      <td>-0.000001</td>\n",
              "      <td>-0.000008</td>\n",
              "    </tr>\n",
              "    <tr>\n",
              "      <th>3</th>\n",
              "      <td>1.0</td>\n",
              "      <td>-0.000038</td>\n",
              "      <td>0.000214</td>\n",
              "      <td>-2.430428e-05</td>\n",
              "      <td>9.620558e-05</td>\n",
              "      <td>-0.000005</td>\n",
              "      <td>-0.000105</td>\n",
              "      <td>-0.000071</td>\n",
              "      <td>-0.000227</td>\n",
              "      <td>-0.000066</td>\n",
              "      <td>0.000037</td>\n",
              "      <td>-0.000033</td>\n",
              "    </tr>\n",
              "    <tr>\n",
              "      <th>4</th>\n",
              "      <td>1.0</td>\n",
              "      <td>-0.000039</td>\n",
              "      <td>0.000197</td>\n",
              "      <td>1.351489e-05</td>\n",
              "      <td>9.273520e-05</td>\n",
              "      <td>0.000099</td>\n",
              "      <td>-0.000180</td>\n",
              "      <td>-0.000018</td>\n",
              "      <td>0.000157</td>\n",
              "      <td>-0.000072</td>\n",
              "      <td>0.000022</td>\n",
              "      <td>-0.000033</td>\n",
              "    </tr>\n",
              "  </tbody>\n",
              "</table>\n",
              "</div>"
            ],
            "text/plain": [
              "   artist_enc  acousticness  danceability  ...  speechiness     tempo   valence\n",
              "0         1.0     -0.000007      0.000027  ...     0.000076  0.000078 -0.000006\n",
              "1         1.0     -0.000007      0.000044  ...     0.000088  0.000038 -0.000006\n",
              "2         1.0     -0.000009      0.000004  ...    -0.000024 -0.000001 -0.000008\n",
              "3         1.0     -0.000038      0.000214  ...    -0.000066  0.000037 -0.000033\n",
              "4         1.0     -0.000039      0.000197  ...    -0.000072  0.000022 -0.000033\n",
              "\n",
              "[5 rows x 12 columns]"
            ]
          },
          "metadata": {
            "tags": []
          },
          "execution_count": 37
        }
      ]
    },
    {
      "cell_type": "code",
      "metadata": {
        "id": "U3Og995mWAQj",
        "colab_type": "code",
        "outputId": "1853ee66-5a08-4f43-bba6-75700909ea41",
        "colab": {
          "base_uri": "https://localhost:8080/",
          "height": 248
        }
      },
      "source": [
        "# get weights\n",
        "# use matrix of the normalized track features\n",
        "model.set_weights([np.array(norm_track_feat.T)])\n",
        "model.get_weights()"
      ],
      "execution_count": 0,
      "outputs": [
        {
          "output_type": "execute_result",
          "data": {
            "text/plain": [
              "[array([[ 1.0000000e+00,  1.0000000e+00,  1.0000000e+00, ...,\n",
              "          9.9999958e-01,  9.9991834e-01,  9.9999988e-01],\n",
              "        [-6.5670524e-06, -6.5167451e-06, -8.7516455e-06, ...,\n",
              "          5.3183781e-04,  4.8972564e-03,  1.8833340e-04],\n",
              "        [ 2.6860635e-05,  4.4299515e-05,  4.2411484e-06, ...,\n",
              "          7.4756426e-05, -4.3729285e-04,  2.7476146e-05],\n",
              "        ...,\n",
              "        [ 7.5996635e-05,  8.8360357e-05, -2.3720469e-05, ...,\n",
              "          7.3127999e-06, -3.0145174e-04, -8.6266809e-06],\n",
              "        [ 7.8365869e-05,  3.8380971e-05, -1.1082434e-06, ...,\n",
              "         -3.2321209e-04, -3.3568274e-03, -1.2811105e-04],\n",
              "        [-5.5836072e-06, -5.5833748e-06, -7.5000353e-06, ...,\n",
              "          4.4880211e-04,  6.2548197e-03,  6.2306615e-05]], dtype=float32)]"
            ]
          },
          "metadata": {
            "tags": []
          },
          "execution_count": 39
        }
      ]
    },
    {
      "cell_type": "code",
      "metadata": {
        "id": "jSN8MisfXCg3",
        "colab_type": "code",
        "outputId": "e9f04bb7-ff33-4f05-84f0-4cf9e920c9ef",
        "colab": {
          "base_uri": "https://localhost:8080/",
          "height": 373
        }
      },
      "source": [
        "tracks.head()"
      ],
      "execution_count": 0,
      "outputs": [
        {
          "output_type": "execute_result",
          "data": {
            "text/html": [
              "<div>\n",
              "<style scoped>\n",
              "    .dataframe tbody tr th:only-of-type {\n",
              "        vertical-align: middle;\n",
              "    }\n",
              "\n",
              "    .dataframe tbody tr th {\n",
              "        vertical-align: top;\n",
              "    }\n",
              "\n",
              "    .dataframe thead th {\n",
              "        text-align: right;\n",
              "    }\n",
              "</style>\n",
              "<table border=\"1\" class=\"dataframe\">\n",
              "  <thead>\n",
              "    <tr style=\"text-align: right;\">\n",
              "      <th></th>\n",
              "      <th>artist_name</th>\n",
              "      <th>track_id</th>\n",
              "      <th>track_name</th>\n",
              "      <th>acousticness</th>\n",
              "      <th>danceability</th>\n",
              "      <th>duration_ms</th>\n",
              "      <th>energy</th>\n",
              "      <th>instrumentalness</th>\n",
              "      <th>key</th>\n",
              "      <th>liveness</th>\n",
              "      <th>loudness</th>\n",
              "      <th>mode</th>\n",
              "      <th>speechiness</th>\n",
              "      <th>tempo</th>\n",
              "      <th>time_signature</th>\n",
              "      <th>valence</th>\n",
              "      <th>popularity</th>\n",
              "      <th>artists_enc</th>\n",
              "      <th>artist_enc</th>\n",
              "    </tr>\n",
              "  </thead>\n",
              "  <tbody>\n",
              "    <tr>\n",
              "      <th>0</th>\n",
              "      <td>YG</td>\n",
              "      <td>2RM4jf1Xa9zPgMGRDiht8O</td>\n",
              "      <td>Big Bank feat. 2 Chainz, Big Sean, Nicki Minaj</td>\n",
              "      <td>-0.203933</td>\n",
              "      <td>0.834130</td>\n",
              "      <td>238373.0</td>\n",
              "      <td>-0.355265</td>\n",
              "      <td>0.016552</td>\n",
              "      <td>-1.126213</td>\n",
              "      <td>-0.666719</td>\n",
              "      <td>0.293658</td>\n",
              "      <td>0.832017</td>\n",
              "      <td>2.359999</td>\n",
              "      <td>2.433574</td>\n",
              "      <td>4.0</td>\n",
              "      <td>-0.173393</td>\n",
              "      <td>44</td>\n",
              "      <td>31054</td>\n",
              "      <td>31054.0</td>\n",
              "    </tr>\n",
              "    <tr>\n",
              "      <th>1</th>\n",
              "      <td>YG</td>\n",
              "      <td>1tHDG53xJNGsItRA3vfVgs</td>\n",
              "      <td>BAND DRUM (feat. A$AP Rocky)</td>\n",
              "      <td>-0.202371</td>\n",
              "      <td>1.375677</td>\n",
              "      <td>214800.0</td>\n",
              "      <td>-0.149769</td>\n",
              "      <td>0.016552</td>\n",
              "      <td>0.798000</td>\n",
              "      <td>0.562219</td>\n",
              "      <td>0.356709</td>\n",
              "      <td>0.832017</td>\n",
              "      <td>2.743943</td>\n",
              "      <td>1.191883</td>\n",
              "      <td>4.0</td>\n",
              "      <td>-0.173386</td>\n",
              "      <td>10</td>\n",
              "      <td>31054</td>\n",
              "      <td>31054.0</td>\n",
              "    </tr>\n",
              "    <tr>\n",
              "      <th>2</th>\n",
              "      <td>R3HAB</td>\n",
              "      <td>6Wosx2euFPMT14UXiWudMy</td>\n",
              "      <td>Radio Silence</td>\n",
              "      <td>-0.202321</td>\n",
              "      <td>0.098047</td>\n",
              "      <td>138913.0</td>\n",
              "      <td>0.006709</td>\n",
              "      <td>0.016552</td>\n",
              "      <td>1.072888</td>\n",
              "      <td>-0.659518</td>\n",
              "      <td>0.562718</td>\n",
              "      <td>-1.203850</td>\n",
              "      <td>-0.548370</td>\n",
              "      <td>-0.025620</td>\n",
              "      <td>4.0</td>\n",
              "      <td>-0.173386</td>\n",
              "      <td>63</td>\n",
              "      <td>23118</td>\n",
              "      <td>23118.0</td>\n",
              "    </tr>\n",
              "    <tr>\n",
              "      <th>3</th>\n",
              "      <td>Chris Cooq</td>\n",
              "      <td>3J2Jpw61sO7l6Hc7qdYV91</td>\n",
              "      <td>Lactose</td>\n",
              "      <td>-0.201951</td>\n",
              "      <td>1.133821</td>\n",
              "      <td>125381.0</td>\n",
              "      <td>-0.129031</td>\n",
              "      <td>0.510755</td>\n",
              "      <td>-0.026663</td>\n",
              "      <td>-0.557507</td>\n",
              "      <td>-0.374477</td>\n",
              "      <td>-1.203850</td>\n",
              "      <td>-0.350799</td>\n",
              "      <td>0.196551</td>\n",
              "      <td>4.0</td>\n",
              "      <td>-0.173378</td>\n",
              "      <td>9</td>\n",
              "      <td>5309</td>\n",
              "      <td>5309.0</td>\n",
              "    </tr>\n",
              "    <tr>\n",
              "      <th>4</th>\n",
              "      <td>Chris Cooq</td>\n",
              "      <td>2jbYvQCyPgX3CdmAzeVeuS</td>\n",
              "      <td>Same - Original mix</td>\n",
              "      <td>-0.204420</td>\n",
              "      <td>1.044440</td>\n",
              "      <td>124016.0</td>\n",
              "      <td>0.071751</td>\n",
              "      <td>0.492331</td>\n",
              "      <td>0.523112</td>\n",
              "      <td>-0.954752</td>\n",
              "      <td>-0.097442</td>\n",
              "      <td>0.832017</td>\n",
              "      <td>-0.382794</td>\n",
              "      <td>0.114836</td>\n",
              "      <td>4.0</td>\n",
              "      <td>-0.173370</td>\n",
              "      <td>8</td>\n",
              "      <td>5309</td>\n",
              "      <td>5309.0</td>\n",
              "    </tr>\n",
              "  </tbody>\n",
              "</table>\n",
              "</div>"
            ],
            "text/plain": [
              "  artist_name                track_id  ... artists_enc  artist_enc\n",
              "0          YG  2RM4jf1Xa9zPgMGRDiht8O  ...       31054     31054.0\n",
              "1          YG  1tHDG53xJNGsItRA3vfVgs  ...       31054     31054.0\n",
              "2       R3HAB  6Wosx2euFPMT14UXiWudMy  ...       23118     23118.0\n",
              "3  Chris Cooq  3J2Jpw61sO7l6Hc7qdYV91  ...        5309      5309.0\n",
              "4  Chris Cooq  2jbYvQCyPgX3CdmAzeVeuS  ...        5309      5309.0\n",
              "\n",
              "[5 rows x 19 columns]"
            ]
          },
          "metadata": {
            "tags": []
          },
          "execution_count": 42
        }
      ]
    },
    {
      "cell_type": "code",
      "metadata": {
        "id": "y3o7buD0WAS7",
        "colab_type": "code",
        "outputId": "4c818834-8ccf-4fe5-a643-ee3711c82e6e",
        "colab": {
          "base_uri": "https://localhost:8080/",
          "height": 70
        }
      },
      "source": [
        "# now we can finally predict!!\n",
        "# lets choose a random track from the training df so I don't keep using Tame Impala :)\n",
        "random_number = np.random.randint(1, tracks.shape[0]+1)\n",
        "lucky_track = tracks.loc[random_number]\n",
        "print('Track Name:', lucky_track[2])\n",
        "print('Artist Name:', lucky_track[0])\n",
        "print('Track ID:', lucky_track[1])\n",
        "# cool looks like we got a classical music track"
      ],
      "execution_count": 0,
      "outputs": [
        {
          "output_type": "stream",
          "text": [
            "Track Name: Franck / Arr. Kenner: Mass in A Major, Op. 12, FWV 61: V. Panis Angelicus\n",
            "Artist Name: César Franck\n",
            "Track ID: 3Xb1RZj2KP4rADqKf2CWGw\n"
          ],
          "name": "stdout"
        }
      ]
    },
    {
      "cell_type": "code",
      "metadata": {
        "id": "reOnK39kWAU-",
        "colab_type": "code",
        "colab": {}
      },
      "source": [
        "# prediction dun dun dunnnnn\n",
        "boom = model.predict(num_features.loc[random_number].values.reshape(1,num_features.shape[1]))"
      ],
      "execution_count": 0,
      "outputs": []
    },
    {
      "cell_type": "code",
      "metadata": {
        "id": "kfSCbaaZYQeF",
        "colab_type": "code",
        "outputId": "17210a98-eadc-4910-9dd7-9c15dc4eff51",
        "colab": {
          "base_uri": "https://localhost:8080/",
          "height": 352
        }
      },
      "source": [
        "top10 = tracks.loc[boom.argsort()[0][-10:]]\n",
        "top10[['track_name', 'artist_name', 'track_id']]\n",
        "# cool, looks like a classical track\n",
        "# the first 3 recs, and recs 7-9 are music but NOT classical genre\n",
        "# rec 4 is a speaker/headphone test, rec 6 is sleep aid track\n",
        "# we do have 3 tracks by Bach! "
      ],
      "execution_count": 0,
      "outputs": [
        {
          "output_type": "execute_result",
          "data": {
            "text/html": [
              "<div>\n",
              "<style scoped>\n",
              "    .dataframe tbody tr th:only-of-type {\n",
              "        vertical-align: middle;\n",
              "    }\n",
              "\n",
              "    .dataframe tbody tr th {\n",
              "        vertical-align: top;\n",
              "    }\n",
              "\n",
              "    .dataframe thead th {\n",
              "        text-align: right;\n",
              "    }\n",
              "</style>\n",
              "<table border=\"1\" class=\"dataframe\">\n",
              "  <thead>\n",
              "    <tr style=\"text-align: right;\">\n",
              "      <th></th>\n",
              "      <th>track_name</th>\n",
              "      <th>artist_name</th>\n",
              "      <th>track_id</th>\n",
              "    </tr>\n",
              "  </thead>\n",
              "  <tbody>\n",
              "    <tr>\n",
              "      <th>52809</th>\n",
              "      <td>20 Miles</td>\n",
              "      <td>Shy Martian</td>\n",
              "      <td>2ruTVwK7cwFNURaY2DSTVG</td>\n",
              "    </tr>\n",
              "    <tr>\n",
              "      <th>24460</th>\n",
              "      <td>Tell Me</td>\n",
              "      <td>Kayla Jay</td>\n",
              "      <td>5S7zmrPk49tNGiRUBoydiu</td>\n",
              "    </tr>\n",
              "    <tr>\n",
              "      <th>33715</th>\n",
              "      <td>War and Church</td>\n",
              "      <td>DJ Straight G</td>\n",
              "      <td>5A91GwNl0ONDLMLsrOgCH5</td>\n",
              "    </tr>\n",
              "    <tr>\n",
              "      <th>83476</th>\n",
              "      <td>Competion Bass (Bass Test Extreme)</td>\n",
              "      <td>Flunky Junky</td>\n",
              "      <td>3xFiCijZzjvhcOZJqU4nVQ</td>\n",
              "    </tr>\n",
              "    <tr>\n",
              "      <th>3134</th>\n",
              "      <td>無伴奏ヴァイオリン・ソナタ 第 1番 ト短調, BWV 1001: 4. Presto</td>\n",
              "      <td>Johann Sebastian Bach</td>\n",
              "      <td>5y2ffpJMeB2G9YgKAx65wd</td>\n",
              "    </tr>\n",
              "    <tr>\n",
              "      <th>3125</th>\n",
              "      <td>Orchestral Suite No. 2 in B Minor, BWV 1067: V...</td>\n",
              "      <td>Johann Sebastian Bach</td>\n",
              "      <td>4brUvpj2jUSC4iwsk1TUf4</td>\n",
              "    </tr>\n",
              "    <tr>\n",
              "      <th>83449</th>\n",
              "      <td>Soothing Music for Sleep and Delta Waves</td>\n",
              "      <td>Sleeping Music Experience</td>\n",
              "      <td>0Pf7JLTpwGmAL586tCtw5t</td>\n",
              "    </tr>\n",
              "    <tr>\n",
              "      <th>92673</th>\n",
              "      <td>Blueberry (Mix Cut) - Daniel Wanrooy Remix</td>\n",
              "      <td>Probspot</td>\n",
              "      <td>6szH9pUUWuYFNNMckB1SCS</td>\n",
              "    </tr>\n",
              "    <tr>\n",
              "      <th>100799</th>\n",
              "      <td>FIND YOUR WINGS (feat. Roy Ayers, Sydney Benne...</td>\n",
              "      <td>Tyler, The Creator</td>\n",
              "      <td>0mvnmLsfi9n5RjPIWzT6tY</td>\n",
              "    </tr>\n",
              "    <tr>\n",
              "      <th>99787</th>\n",
              "      <td>Befiehl du deine Wege, BWV 271</td>\n",
              "      <td>Johann Sebastian Bach</td>\n",
              "      <td>1NXyNlJnwRyzqH2SegKQYF</td>\n",
              "    </tr>\n",
              "  </tbody>\n",
              "</table>\n",
              "</div>"
            ],
            "text/plain": [
              "                                               track_name  ...                track_id\n",
              "52809                                            20 Miles  ...  2ruTVwK7cwFNURaY2DSTVG\n",
              "24460                                             Tell Me  ...  5S7zmrPk49tNGiRUBoydiu\n",
              "33715                                      War and Church  ...  5A91GwNl0ONDLMLsrOgCH5\n",
              "83476                  Competion Bass (Bass Test Extreme)  ...  3xFiCijZzjvhcOZJqU4nVQ\n",
              "3134          無伴奏ヴァイオリン・ソナタ 第 1番 ト短調, BWV 1001: 4. Presto  ...  5y2ffpJMeB2G9YgKAx65wd\n",
              "3125    Orchestral Suite No. 2 in B Minor, BWV 1067: V...  ...  4brUvpj2jUSC4iwsk1TUf4\n",
              "83449            Soothing Music for Sleep and Delta Waves  ...  0Pf7JLTpwGmAL586tCtw5t\n",
              "92673          Blueberry (Mix Cut) - Daniel Wanrooy Remix  ...  6szH9pUUWuYFNNMckB1SCS\n",
              "100799  FIND YOUR WINGS (feat. Roy Ayers, Sydney Benne...  ...  0mvnmLsfi9n5RjPIWzT6tY\n",
              "99787                      Befiehl du deine Wege, BWV 271  ...  1NXyNlJnwRyzqH2SegKQYF\n",
              "\n",
              "[10 rows x 3 columns]"
            ]
          },
          "metadata": {
            "tags": []
          },
          "execution_count": 57
        }
      ]
    },
    {
      "cell_type": "code",
      "metadata": {
        "id": "FLllj7kHg-Wd",
        "colab_type": "code",
        "colab": {}
      },
      "source": [
        "# lets check out Tame Impala 'Borderline'\n",
        "boom2 = model.predict(num_features.loc[103658].values.reshape(1,num_features.shape[1]))"
      ],
      "execution_count": 0,
      "outputs": []
    },
    {
      "cell_type": "code",
      "metadata": {
        "id": "zfyOU-Ojg-Y1",
        "colab_type": "code",
        "outputId": "94c73e94-1d30-45ea-b88d-cb82635cad53",
        "colab": {
          "base_uri": "https://localhost:8080/",
          "height": 352
        }
      },
      "source": [
        "top10 = tracks.loc[boom2.argsort()[0][-10:]]\n",
        "top10[['track_name', 'artist_name', 'track_id']]\n",
        "# this is pretty bad, almost none of these tracks are similar genre\n",
        "# 1st rec is a relaxation/sleeping aid track\n",
        "# 4 recs are rap\n",
        "# 1 rec is a mostly speech album intro"
      ],
      "execution_count": 0,
      "outputs": [
        {
          "output_type": "execute_result",
          "data": {
            "text/html": [
              "<div>\n",
              "<style scoped>\n",
              "    .dataframe tbody tr th:only-of-type {\n",
              "        vertical-align: middle;\n",
              "    }\n",
              "\n",
              "    .dataframe tbody tr th {\n",
              "        vertical-align: top;\n",
              "    }\n",
              "\n",
              "    .dataframe thead th {\n",
              "        text-align: right;\n",
              "    }\n",
              "</style>\n",
              "<table border=\"1\" class=\"dataframe\">\n",
              "  <thead>\n",
              "    <tr style=\"text-align: right;\">\n",
              "      <th></th>\n",
              "      <th>track_name</th>\n",
              "      <th>artist_name</th>\n",
              "      <th>track_id</th>\n",
              "    </tr>\n",
              "  </thead>\n",
              "  <tbody>\n",
              "    <tr>\n",
              "      <th>47326</th>\n",
              "      <td>Crashing Waves</td>\n",
              "      <td>Markup</td>\n",
              "      <td>3raPV6mhoF57MX14CbiyDA</td>\n",
              "    </tr>\n",
              "    <tr>\n",
              "      <th>47324</th>\n",
              "      <td>Acid Chunk - Original Mix</td>\n",
              "      <td>Weiss (UK)</td>\n",
              "      <td>4Xae0PVpAG7oKK6JMphrXp</td>\n",
              "    </tr>\n",
              "    <tr>\n",
              "      <th>47321</th>\n",
              "      <td>Dont Let Me Fall</td>\n",
              "      <td>Zeper</td>\n",
              "      <td>4mIkBg0Xm0fZrEuUrwqWuB</td>\n",
              "    </tr>\n",
              "    <tr>\n",
              "      <th>47320</th>\n",
              "      <td>Duress</td>\n",
              "      <td>AOBeats</td>\n",
              "      <td>45dD2M6BjqU3m0aVeXZ9XI</td>\n",
              "    </tr>\n",
              "    <tr>\n",
              "      <th>47318</th>\n",
              "      <td>Loathe</td>\n",
              "      <td>Nate Rose</td>\n",
              "      <td>2R7RwGR0jUEieQigHVHl6d</td>\n",
              "    </tr>\n",
              "    <tr>\n",
              "      <th>47317</th>\n",
              "      <td>Rooftop</td>\n",
              "      <td>Young Syrup</td>\n",
              "      <td>1ceT2qUNievutaLNCn4Zf9</td>\n",
              "    </tr>\n",
              "    <tr>\n",
              "      <th>47316</th>\n",
              "      <td>Goodbye - The John F. Kennedy Center for The P...</td>\n",
              "      <td>Chicago</td>\n",
              "      <td>6bRm4NOttsiQOYnfCvmLSI</td>\n",
              "    </tr>\n",
              "    <tr>\n",
              "      <th>47314</th>\n",
              "      <td>You Will Be Found (From \"Dear Evan Hansen\")</td>\n",
              "      <td>Benj Pasek</td>\n",
              "      <td>3iFjfGxlPGFjavrtVaDGKx</td>\n",
              "    </tr>\n",
              "    <tr>\n",
              "      <th>47334</th>\n",
              "      <td>Glitter</td>\n",
              "      <td>Daniel Avery</td>\n",
              "      <td>6qDe01ZfTYi9YpQwNA4sT0</td>\n",
              "    </tr>\n",
              "    <tr>\n",
              "      <th>59961</th>\n",
              "      <td>Two of a Kind</td>\n",
              "      <td>Ghost and Pals</td>\n",
              "      <td>5x2QvZQxO7QVnXMhpR9vxK</td>\n",
              "    </tr>\n",
              "  </tbody>\n",
              "</table>\n",
              "</div>"
            ],
            "text/plain": [
              "                                              track_name  ...                track_id\n",
              "47326                                     Crashing Waves  ...  3raPV6mhoF57MX14CbiyDA\n",
              "47324                          Acid Chunk - Original Mix  ...  4Xae0PVpAG7oKK6JMphrXp\n",
              "47321                                   Dont Let Me Fall  ...  4mIkBg0Xm0fZrEuUrwqWuB\n",
              "47320                                             Duress  ...  45dD2M6BjqU3m0aVeXZ9XI\n",
              "47318                                             Loathe  ...  2R7RwGR0jUEieQigHVHl6d\n",
              "47317                                            Rooftop  ...  1ceT2qUNievutaLNCn4Zf9\n",
              "47316  Goodbye - The John F. Kennedy Center for The P...  ...  6bRm4NOttsiQOYnfCvmLSI\n",
              "47314        You Will Be Found (From \"Dear Evan Hansen\")  ...  3iFjfGxlPGFjavrtVaDGKx\n",
              "47334                                            Glitter  ...  6qDe01ZfTYi9YpQwNA4sT0\n",
              "59961                                      Two of a Kind  ...  5x2QvZQxO7QVnXMhpR9vxK\n",
              "\n",
              "[10 rows x 3 columns]"
            ]
          },
          "metadata": {
            "tags": []
          },
          "execution_count": 70
        }
      ]
    },
    {
      "cell_type": "code",
      "metadata": {
        "id": "ecAyK9cbhRDJ",
        "colab_type": "code",
        "outputId": "bc042913-4dcb-4811-edde-862a5e89e782",
        "colab": {
          "base_uri": "https://localhost:8080/",
          "height": 372
        }
      },
      "source": [
        "tracks.loc[111644]"
      ],
      "execution_count": 0,
      "outputs": [
        {
          "output_type": "execute_result",
          "data": {
            "text/plain": [
              "artist_name                 Britney Spears\n",
              "track_id            4fbaKWFRghusXd4bSBvvfN\n",
              "track_name                           Toxic\n",
              "acousticness                     -0.202329\n",
              "danceability                       0.99712\n",
              "duration_ms                         198800\n",
              "energy                            0.115112\n",
              "instrumentalness                 0.0300993\n",
              "key                             -0.0266629\n",
              "liveness                          0.298189\n",
              "loudness                          0.860068\n",
              "mode                              -1.20385\n",
              "speechiness                    0.000348906\n",
              "tempo                             0.750443\n",
              "time_signature                           4\n",
              "valence                           -0.17337\n",
              "popularity                              67\n",
              "artists_enc                           4090\n",
              "artist_enc                            4090\n",
              "Name: 111644, dtype: object"
            ]
          },
          "metadata": {
            "tags": []
          },
          "execution_count": 76
        }
      ]
    },
    {
      "cell_type": "code",
      "metadata": {
        "id": "yBrF-O-SjdI0",
        "colab_type": "code",
        "colab": {}
      },
      "source": [
        "# 'Toxic' Britney Seaprs\n",
        "boom3 = model.predict(num_features.loc[111644].values.reshape(1,num_features.shape[1]))"
      ],
      "execution_count": 0,
      "outputs": []
    },
    {
      "cell_type": "code",
      "metadata": {
        "id": "7F38BpHRjdLK",
        "colab_type": "code",
        "outputId": "74780d23-95e7-4e91-835f-09b72e24422e",
        "colab": {
          "base_uri": "https://localhost:8080/",
          "height": 352
        }
      },
      "source": [
        "top10 = tracks.loc[boom3.argsort()[0][-10:]]\n",
        "top10[['track_name', 'artist_name', 'track_id']]\n",
        "# this model seems much more poor than our KNN unfortunately"
      ],
      "execution_count": 0,
      "outputs": [
        {
          "output_type": "execute_result",
          "data": {
            "text/html": [
              "<div>\n",
              "<style scoped>\n",
              "    .dataframe tbody tr th:only-of-type {\n",
              "        vertical-align: middle;\n",
              "    }\n",
              "\n",
              "    .dataframe tbody tr th {\n",
              "        vertical-align: top;\n",
              "    }\n",
              "\n",
              "    .dataframe thead th {\n",
              "        text-align: right;\n",
              "    }\n",
              "</style>\n",
              "<table border=\"1\" class=\"dataframe\">\n",
              "  <thead>\n",
              "    <tr style=\"text-align: right;\">\n",
              "      <th></th>\n",
              "      <th>track_name</th>\n",
              "      <th>artist_name</th>\n",
              "      <th>track_id</th>\n",
              "    </tr>\n",
              "  </thead>\n",
              "  <tbody>\n",
              "    <tr>\n",
              "      <th>329</th>\n",
              "      <td>Volvamos Hablar</td>\n",
              "      <td>Bryant Myers</td>\n",
              "      <td>1sLUxTb7yh97dI3qiuijpj</td>\n",
              "    </tr>\n",
              "    <tr>\n",
              "      <th>41885</th>\n",
              "      <td>Dearly Beloved (From \"Kingdom Hearts\")</td>\n",
              "      <td>Myuu</td>\n",
              "      <td>5GEQiL5XmC6FpJVNOtaYwJ</td>\n",
              "    </tr>\n",
              "    <tr>\n",
              "      <th>22329</th>\n",
              "      <td>Never Enough (From the Greatest Showman)</td>\n",
              "      <td>Malinda Kathleen Reese</td>\n",
              "      <td>4w8ZCkXrdxie4NzFygD64a</td>\n",
              "    </tr>\n",
              "    <tr>\n",
              "      <th>66500</th>\n",
              "      <td>sneakerhead</td>\n",
              "      <td>underscores</td>\n",
              "      <td>26hcTYdnaPjVC1rIPpQYLm</td>\n",
              "    </tr>\n",
              "    <tr>\n",
              "      <th>79626</th>\n",
              "      <td>On My Way</td>\n",
              "      <td>Shiah Maisel</td>\n",
              "      <td>4qDj2LHFQpket2tAxhAHIh</td>\n",
              "    </tr>\n",
              "    <tr>\n",
              "      <th>54851</th>\n",
              "      <td>The Konnokal - N3bula &amp; Twisted Melodiez Remix</td>\n",
              "      <td>Dimatik</td>\n",
              "      <td>5a7jAlB8ShXHq5S9Kx4YNJ</td>\n",
              "    </tr>\n",
              "    <tr>\n",
              "      <th>60853</th>\n",
              "      <td>Wanna Dance</td>\n",
              "      <td>Steve Davit</td>\n",
              "      <td>7KmI92MtxCqooGCcK6TB4u</td>\n",
              "    </tr>\n",
              "    <tr>\n",
              "      <th>58816</th>\n",
              "      <td>Snow</td>\n",
              "      <td>Michel Tuati</td>\n",
              "      <td>2yzKmT8plSJk4aT08afqX2</td>\n",
              "    </tr>\n",
              "    <tr>\n",
              "      <th>113489</th>\n",
              "      <td>World Wide</td>\n",
              "      <td>700prince</td>\n",
              "      <td>7bsDkKlVNeqhFI2mAVEoIq</td>\n",
              "    </tr>\n",
              "    <tr>\n",
              "      <th>115611</th>\n",
              "      <td>Panacea.</td>\n",
              "      <td>Misc.Inc</td>\n",
              "      <td>3julkyNbFWkLu9geA2CB8K</td>\n",
              "    </tr>\n",
              "  </tbody>\n",
              "</table>\n",
              "</div>"
            ],
            "text/plain": [
              "                                            track_name  ...                track_id\n",
              "329                                    Volvamos Hablar  ...  1sLUxTb7yh97dI3qiuijpj\n",
              "41885           Dearly Beloved (From \"Kingdom Hearts\")  ...  5GEQiL5XmC6FpJVNOtaYwJ\n",
              "22329         Never Enough (From the Greatest Showman)  ...  4w8ZCkXrdxie4NzFygD64a\n",
              "66500                                      sneakerhead  ...  26hcTYdnaPjVC1rIPpQYLm\n",
              "79626                                        On My Way  ...  4qDj2LHFQpket2tAxhAHIh\n",
              "54851   The Konnokal - N3bula & Twisted Melodiez Remix  ...  5a7jAlB8ShXHq5S9Kx4YNJ\n",
              "60853                                      Wanna Dance  ...  7KmI92MtxCqooGCcK6TB4u\n",
              "58816                                             Snow  ...  2yzKmT8plSJk4aT08afqX2\n",
              "113489                                      World Wide  ...  7bsDkKlVNeqhFI2mAVEoIq\n",
              "115611                                        Panacea.  ...  3julkyNbFWkLu9geA2CB8K\n",
              "\n",
              "[10 rows x 3 columns]"
            ]
          },
          "metadata": {
            "tags": []
          },
          "execution_count": 78
        }
      ]
    },
    {
      "cell_type": "code",
      "metadata": {
        "id": "O5dZpJLiYQgl",
        "colab_type": "code",
        "colab": {}
      },
      "source": [
        "# make functions for all of this for implementation\n",
        "def predict_tracks(model, vector):\n",
        "  return model.predict(vector).argsort()"
      ],
      "execution_count": 0,
      "outputs": []
    },
    {
      "cell_type": "code",
      "metadata": {
        "id": "NM2oUbswcco_",
        "colab_type": "code",
        "colab": {}
      },
      "source": [
        "def create_model(weights):\n",
        "  model = Sequential()\n",
        "  model.add(Dense(input_shape=(12,),\n",
        "          activation='relu',\n",
        "          units=weights.shape[0],\n",
        "          use_bias=False))\n",
        "  model.set_weights([weights.T])\n",
        "  return model"
      ],
      "execution_count": 0,
      "outputs": []
    },
    {
      "cell_type": "code",
      "metadata": {
        "id": "4CKovL5_cYu3",
        "colab_type": "code",
        "colab": {}
      },
      "source": [
        "def model_result(vector, features, best_match=True, amount=11):\n",
        "    \"\"\"\n",
        "    fxn which takes input vector (track features) and all track features\n",
        "    of the dataset and returns a list of 11 indices\n",
        "    most similar if best_match=True, most dissimilar is best_match=False\n",
        "    \"\"\"\n",
        "    tr_id = vector['id'].values[0]\n",
        "    ids = features['id']\n",
        "    input_vec = vector.drop('id', axis=1)\n",
        "    feats = features.drop('id', axis=1)\n",
        "    norm_vector = normie(input_vec.values.reshape(1,12))\n",
        "    norm_features = normie(feats)\n",
        "    model = create_model(norm_features)\n",
        "    prediction = np.array(predict(model, norm_vector).argsort())\n",
        "    prediction = prediction.reshape(prediction.shape[1])\n",
        "    if best_match:\n",
        "        if tr_id in ids[prediction[-amount:]]:\n",
        "            return features.loc[prediction[-amount-1:-1]]\n",
        "        return features.loc[prediction[-amount:]]\n",
        "    return features.loc[prediction[:amount]]"
      ],
      "execution_count": 0,
      "outputs": []
    },
    {
      "cell_type": "code",
      "metadata": {
        "id": "4eMI7XWub54c",
        "colab_type": "code",
        "colab": {}
      },
      "source": [
        "test_result = model_result(track_audio_features, )"
      ],
      "execution_count": 0,
      "outputs": []
    },
    {
      "cell_type": "code",
      "metadata": {
        "id": "adj5tWa_b565",
        "colab_type": "code",
        "outputId": "a0f07375-8342-4941-a6c3-73e6998e5e2c",
        "colab": {
          "base_uri": "https://localhost:8080/",
          "height": 411
        }
      },
      "source": [
        "tracks[numeric_features]"
      ],
      "execution_count": 0,
      "outputs": [
        {
          "output_type": "execute_result",
          "data": {
            "text/html": [
              "<div>\n",
              "<style scoped>\n",
              "    .dataframe tbody tr th:only-of-type {\n",
              "        vertical-align: middle;\n",
              "    }\n",
              "\n",
              "    .dataframe tbody tr th {\n",
              "        vertical-align: top;\n",
              "    }\n",
              "\n",
              "    .dataframe thead th {\n",
              "        text-align: right;\n",
              "    }\n",
              "</style>\n",
              "<table border=\"1\" class=\"dataframe\">\n",
              "  <thead>\n",
              "    <tr style=\"text-align: right;\">\n",
              "      <th></th>\n",
              "      <th>acousticness</th>\n",
              "      <th>danceability</th>\n",
              "      <th>energy</th>\n",
              "      <th>instrumentalness</th>\n",
              "      <th>key</th>\n",
              "      <th>liveness</th>\n",
              "      <th>loudness</th>\n",
              "      <th>mode</th>\n",
              "      <th>speechiness</th>\n",
              "      <th>tempo</th>\n",
              "      <th>valence</th>\n",
              "    </tr>\n",
              "  </thead>\n",
              "  <tbody>\n",
              "    <tr>\n",
              "      <th>0</th>\n",
              "      <td>-0.203933</td>\n",
              "      <td>0.834130</td>\n",
              "      <td>-0.355265</td>\n",
              "      <td>0.016552</td>\n",
              "      <td>-1.126213</td>\n",
              "      <td>-0.666719</td>\n",
              "      <td>0.293658</td>\n",
              "      <td>0.832017</td>\n",
              "      <td>2.359999</td>\n",
              "      <td>2.433574</td>\n",
              "      <td>-0.173393</td>\n",
              "    </tr>\n",
              "    <tr>\n",
              "      <th>1</th>\n",
              "      <td>-0.202371</td>\n",
              "      <td>1.375677</td>\n",
              "      <td>-0.149769</td>\n",
              "      <td>0.016552</td>\n",
              "      <td>0.798000</td>\n",
              "      <td>0.562219</td>\n",
              "      <td>0.356709</td>\n",
              "      <td>0.832017</td>\n",
              "      <td>2.743943</td>\n",
              "      <td>1.191883</td>\n",
              "      <td>-0.173386</td>\n",
              "    </tr>\n",
              "    <tr>\n",
              "      <th>2</th>\n",
              "      <td>-0.202321</td>\n",
              "      <td>0.098047</td>\n",
              "      <td>0.006709</td>\n",
              "      <td>0.016552</td>\n",
              "      <td>1.072888</td>\n",
              "      <td>-0.659518</td>\n",
              "      <td>0.562718</td>\n",
              "      <td>-1.203850</td>\n",
              "      <td>-0.548370</td>\n",
              "      <td>-0.025620</td>\n",
              "      <td>-0.173386</td>\n",
              "    </tr>\n",
              "    <tr>\n",
              "      <th>3</th>\n",
              "      <td>-0.201951</td>\n",
              "      <td>1.133821</td>\n",
              "      <td>-0.129031</td>\n",
              "      <td>0.510755</td>\n",
              "      <td>-0.026663</td>\n",
              "      <td>-0.557507</td>\n",
              "      <td>-0.374477</td>\n",
              "      <td>-1.203850</td>\n",
              "      <td>-0.350799</td>\n",
              "      <td>0.196551</td>\n",
              "      <td>-0.173378</td>\n",
              "    </tr>\n",
              "    <tr>\n",
              "      <th>4</th>\n",
              "      <td>-0.204420</td>\n",
              "      <td>1.044440</td>\n",
              "      <td>0.071751</td>\n",
              "      <td>0.492331</td>\n",
              "      <td>0.523112</td>\n",
              "      <td>-0.954752</td>\n",
              "      <td>-0.097442</td>\n",
              "      <td>0.832017</td>\n",
              "      <td>-0.382794</td>\n",
              "      <td>0.114836</td>\n",
              "      <td>-0.173370</td>\n",
              "    </tr>\n",
              "    <tr>\n",
              "      <th>...</th>\n",
              "      <td>...</td>\n",
              "      <td>...</td>\n",
              "      <td>...</td>\n",
              "      <td>...</td>\n",
              "      <td>...</td>\n",
              "      <td>...</td>\n",
              "      <td>...</td>\n",
              "      <td>...</td>\n",
              "      <td>...</td>\n",
              "      <td>...</td>\n",
              "      <td>...</td>\n",
              "    </tr>\n",
              "    <tr>\n",
              "      <th>120099</th>\n",
              "      <td>5.933602</td>\n",
              "      <td>0.723718</td>\n",
              "      <td>0.267819</td>\n",
              "      <td>-3.447207</td>\n",
              "      <td>-1.401101</td>\n",
              "      <td>-0.951151</td>\n",
              "      <td>1.453640</td>\n",
              "      <td>-1.082309</td>\n",
              "      <td>0.936210</td>\n",
              "      <td>-3.180850</td>\n",
              "      <td>4.448751</td>\n",
              "    </tr>\n",
              "    <tr>\n",
              "      <th>120100</th>\n",
              "      <td>5.008694</td>\n",
              "      <td>-0.259479</td>\n",
              "      <td>5.923650</td>\n",
              "      <td>-5.140612</td>\n",
              "      <td>-1.401101</td>\n",
              "      <td>-0.639716</td>\n",
              "      <td>1.565974</td>\n",
              "      <td>-1.203850</td>\n",
              "      <td>0.120331</td>\n",
              "      <td>-3.199869</td>\n",
              "      <td>4.750980</td>\n",
              "    </tr>\n",
              "    <tr>\n",
              "      <th>120101</th>\n",
              "      <td>5.260942</td>\n",
              "      <td>0.739491</td>\n",
              "      <td>0.267819</td>\n",
              "      <td>-3.825987</td>\n",
              "      <td>-1.126213</td>\n",
              "      <td>-0.835338</td>\n",
              "      <td>1.452060</td>\n",
              "      <td>0.512386</td>\n",
              "      <td>0.072338</td>\n",
              "      <td>-3.197215</td>\n",
              "      <td>4.439552</td>\n",
              "    </tr>\n",
              "    <tr>\n",
              "      <th>120102</th>\n",
              "      <td>4.672364</td>\n",
              "      <td>-0.417211</td>\n",
              "      <td>5.923650</td>\n",
              "      <td>-6.412427</td>\n",
              "      <td>-1.126213</td>\n",
              "      <td>-0.878543</td>\n",
              "      <td>1.493141</td>\n",
              "      <td>0.439095</td>\n",
              "      <td>-0.287608</td>\n",
              "      <td>-3.202675</td>\n",
              "      <td>5.967585</td>\n",
              "    </tr>\n",
              "    <tr>\n",
              "      <th>120103</th>\n",
              "      <td>4.672364</td>\n",
              "      <td>0.681656</td>\n",
              "      <td>9.694204</td>\n",
              "      <td>-1.759762</td>\n",
              "      <td>-1.126213</td>\n",
              "      <td>1.312304</td>\n",
              "      <td>1.472375</td>\n",
              "      <td>-1.203648</td>\n",
              "      <td>-0.214019</td>\n",
              "      <td>-3.178307</td>\n",
              "      <td>1.545765</td>\n",
              "    </tr>\n",
              "  </tbody>\n",
              "</table>\n",
              "<p>119923 rows × 11 columns</p>\n",
              "</div>"
            ],
            "text/plain": [
              "        acousticness  danceability    energy  ...  speechiness     tempo   valence\n",
              "0          -0.203933      0.834130 -0.355265  ...     2.359999  2.433574 -0.173393\n",
              "1          -0.202371      1.375677 -0.149769  ...     2.743943  1.191883 -0.173386\n",
              "2          -0.202321      0.098047  0.006709  ...    -0.548370 -0.025620 -0.173386\n",
              "3          -0.201951      1.133821 -0.129031  ...    -0.350799  0.196551 -0.173378\n",
              "4          -0.204420      1.044440  0.071751  ...    -0.382794  0.114836 -0.173370\n",
              "...              ...           ...       ...  ...          ...       ...       ...\n",
              "120099      5.933602      0.723718  0.267819  ...     0.936210 -3.180850  4.448751\n",
              "120100      5.008694     -0.259479  5.923650  ...     0.120331 -3.199869  4.750980\n",
              "120101      5.260942      0.739491  0.267819  ...     0.072338 -3.197215  4.439552\n",
              "120102      4.672364     -0.417211  5.923650  ...    -0.287608 -3.202675  5.967585\n",
              "120103      4.672364      0.681656  9.694204  ...    -0.214019 -3.178307  1.545765\n",
              "\n",
              "[119923 rows x 11 columns]"
            ]
          },
          "metadata": {
            "tags": []
          },
          "execution_count": 62
        }
      ]
    },
    {
      "cell_type": "markdown",
      "metadata": {
        "id": "XSvVgpmDe3Vo",
        "colab_type": "text"
      },
      "source": [
        "###We decided not to implement this NN"
      ]
    },
    {
      "cell_type": "code",
      "metadata": {
        "id": "5o_Ox3NAe5Iq",
        "colab_type": "code",
        "colab": {}
      },
      "source": [
        "\n",
        "\n",
        "# train validate\n",
        "target = 'track_id'\n",
        "features = tracks[numeric_features]\n",
        "\n",
        "X_train = features\n",
        "y_train = tracks[target]"
      ],
      "execution_count": 0,
      "outputs": []
    },
    {
      "cell_type": "code",
      "metadata": {
        "id": "AZKXcJFae5K6",
        "colab_type": "code",
        "colab": {}
      },
      "source": [
        "# random\n",
        "seed = 42 \n",
        "numpy.random.seed(seed)\n",
        "\n",
        "\n",
        "# supercalafragalisticexpialadocious parameters\n",
        "batch_size = 512\n",
        "epochs = 10\n",
        "optimizer = 'Adam'\n",
        "\n",
        "# instantiate\n",
        "model = Sequential()\n",
        "mode.add(Dense(12, imput_shape=12, activation = 'relu'))\n",
        "model.add(Dense(512, activation = 'sigmoid'))\n",
        "model.add(Dense(1024, activation = 'sigmoid'))\n",
        "model.add(Dense(512, activation = 'sigmoid'))\n"
      ],
      "execution_count": 0,
      "outputs": []
    },
    {
      "cell_type": "code",
      "metadata": {
        "id": "djQItLOyftEb",
        "colab_type": "code",
        "colab": {}
      },
      "source": [
        ""
      ],
      "execution_count": 0,
      "outputs": []
    },
    {
      "cell_type": "code",
      "metadata": {
        "id": "-kgTRdXxftGn",
        "colab_type": "code",
        "colab": {}
      },
      "source": [
        ""
      ],
      "execution_count": 0,
      "outputs": []
    },
    {
      "cell_type": "code",
      "metadata": {
        "id": "prLDA6rLftI1",
        "colab_type": "code",
        "colab": {}
      },
      "source": [
        ""
      ],
      "execution_count": 0,
      "outputs": []
    }
  ]
}