{
  "nbformat": 4,
  "nbformat_minor": 0,
  "metadata": {
    "colab": {
      "name": "Spotify Rec KNN.ipynb",
      "provenance": []
    },
    "kernelspec": {
      "name": "python3",
      "display_name": "Python 3"
    }
  },
  "cells": [
    {
      "cell_type": "markdown",
      "metadata": {
        "id": "ctyzNbUYHqWx",
        "colab_type": "text"
      },
      "source": [
        "to do if there is time: \n",
        "\n",
        "- least similar song search for funsies\n",
        "\n",
        "- create visualizations "
      ]
    },
    {
      "cell_type": "markdown",
      "metadata": {
        "id": "TMDW0v1XROm_",
        "colab_type": "text"
      },
      "source": [
        "## Imports"
      ]
    },
    {
      "cell_type": "code",
      "metadata": {
        "id": "8lgM2EHbRQ-_",
        "colab_type": "code",
        "outputId": "98545e6e-9b45-4eb2-b6a2-e3293895f647",
        "colab": {
          "base_uri": "https://localhost:8080/",
          "height": 214
        }
      },
      "source": [
        "!pip install spotipy\n",
        "# https://spotipy.readthedocs.io/en/2.12.0/"
      ],
      "execution_count": 0,
      "outputs": [
        {
          "output_type": "stream",
          "text": [
            "Collecting spotipy\n",
            "  Downloading https://files.pythonhosted.org/packages/b2/67/ea788ae3d7e3aad0b0ef72a4f5b6c24c1dbb3db83fd57efc221f86b4fe87/spotipy-2.12.0-py3-none-any.whl\n",
            "Requirement already satisfied: requests>=2.20.0 in /usr/local/lib/python3.6/dist-packages (from spotipy) (2.23.0)\n",
            "Requirement already satisfied: six>=1.10.0 in /usr/local/lib/python3.6/dist-packages (from spotipy) (1.12.0)\n",
            "Requirement already satisfied: urllib3!=1.25.0,!=1.25.1,<1.26,>=1.21.1 in /usr/local/lib/python3.6/dist-packages (from requests>=2.20.0->spotipy) (1.24.3)\n",
            "Requirement already satisfied: chardet<4,>=3.0.2 in /usr/local/lib/python3.6/dist-packages (from requests>=2.20.0->spotipy) (3.0.4)\n",
            "Requirement already satisfied: certifi>=2017.4.17 in /usr/local/lib/python3.6/dist-packages (from requests>=2.20.0->spotipy) (2020.4.5.1)\n",
            "Requirement already satisfied: idna<3,>=2.5 in /usr/local/lib/python3.6/dist-packages (from requests>=2.20.0->spotipy) (2.9)\n",
            "Installing collected packages: spotipy\n",
            "Successfully installed spotipy-2.12.0\n"
          ],
          "name": "stdout"
        }
      ]
    },
    {
      "cell_type": "code",
      "metadata": {
        "id": "T4i1KpT2RTrV",
        "colab_type": "code",
        "outputId": "4a483980-868e-4260-f637-ddad307cba11",
        "colab": {
          "base_uri": "https://localhost:8080/",
          "height": 552
        }
      },
      "source": [
        "!pip install spotify"
      ],
      "execution_count": 0,
      "outputs": [
        {
          "output_type": "stream",
          "text": [
            "Collecting spotify\n",
            "\u001b[?25l  Downloading https://files.pythonhosted.org/packages/c6/a0/384d44f58c4cfc64b91337d8573cf89b6be0ac71fc08db4d09852ea85d4d/spotify-0.10.2-py3-none-any.whl (46kB)\n",
            "\u001b[K     |████████████████████████████████| 51kB 1.9MB/s \n",
            "\u001b[?25hCollecting aiohttp<4.0,>=3.6\n",
            "\u001b[?25l  Downloading https://files.pythonhosted.org/packages/7c/39/7eb5f98d24904e0f6d3edb505d4aa60e3ef83c0a58d6fe18244a51757247/aiohttp-3.6.2-cp36-cp36m-manylinux1_x86_64.whl (1.2MB)\n",
            "\u001b[K     |████████████████████████████████| 1.2MB 8.0MB/s \n",
            "\u001b[?25hCollecting backoff<2.0.0,>=1.10.0\n",
            "  Downloading https://files.pythonhosted.org/packages/f0/32/c5dd4f4b0746e9ec05ace2a5045c1fc375ae67ee94355344ad6c7005fd87/backoff-1.10.0-py2.py3-none-any.whl\n",
            "Collecting idna-ssl>=1.0; python_version < \"3.7\"\n",
            "  Downloading https://files.pythonhosted.org/packages/46/03/07c4894aae38b0de52b52586b24bf189bb83e4ddabfe2e2c8f2419eec6f4/idna-ssl-1.1.0.tar.gz\n",
            "Requirement already satisfied: attrs>=17.3.0 in /usr/local/lib/python3.6/dist-packages (from aiohttp<4.0,>=3.6->spotify) (19.3.0)\n",
            "Collecting multidict<5.0,>=4.5\n",
            "\u001b[?25l  Downloading https://files.pythonhosted.org/packages/1a/95/f50352b5366e7d579e8b99631680a9e32e1b22adfa1629a8f23b1d22d5e2/multidict-4.7.6-cp36-cp36m-manylinux1_x86_64.whl (148kB)\n",
            "\u001b[K     |████████████████████████████████| 153kB 52.9MB/s \n",
            "\u001b[?25hRequirement already satisfied: typing-extensions>=3.6.5; python_version < \"3.7\" in /usr/local/lib/python3.6/dist-packages (from aiohttp<4.0,>=3.6->spotify) (3.6.6)\n",
            "Collecting yarl<2.0,>=1.0\n",
            "\u001b[?25l  Downloading https://files.pythonhosted.org/packages/95/8f/0209fc5d975f839344c33c822ff2f7ef80f6b1e984673a5a68f960bfa583/yarl-1.4.2-cp36-cp36m-manylinux1_x86_64.whl (252kB)\n",
            "\u001b[K     |████████████████████████████████| 256kB 44.9MB/s \n",
            "\u001b[?25hCollecting async-timeout<4.0,>=3.0\n",
            "  Downloading https://files.pythonhosted.org/packages/e1/1e/5a4441be21b0726c4464f3f23c8b19628372f606755a9d2e46c187e65ec4/async_timeout-3.0.1-py3-none-any.whl\n",
            "Requirement already satisfied: chardet<4.0,>=2.0 in /usr/local/lib/python3.6/dist-packages (from aiohttp<4.0,>=3.6->spotify) (3.0.4)\n",
            "Requirement already satisfied: idna>=2.0 in /usr/local/lib/python3.6/dist-packages (from idna-ssl>=1.0; python_version < \"3.7\"->aiohttp<4.0,>=3.6->spotify) (2.9)\n",
            "Building wheels for collected packages: idna-ssl\n",
            "  Building wheel for idna-ssl (setup.py) ... \u001b[?25l\u001b[?25hdone\n",
            "  Created wheel for idna-ssl: filename=idna_ssl-1.1.0-cp36-none-any.whl size=3162 sha256=d6978815ece8c1fc0f7a2beaf1e25b5fc5466e137f62c0e2e23109fc31de40d2\n",
            "  Stored in directory: /root/.cache/pip/wheels/d3/00/b3/32d613e19e08a739751dd6bf998cfed277728f8b2127ad4eb7\n",
            "Successfully built idna-ssl\n",
            "Installing collected packages: idna-ssl, multidict, yarl, async-timeout, aiohttp, backoff, spotify\n",
            "Successfully installed aiohttp-3.6.2 async-timeout-3.0.1 backoff-1.10.0 idna-ssl-1.1.0 multidict-4.7.6 spotify-0.10.2 yarl-1.4.2\n"
          ],
          "name": "stdout"
        }
      ]
    },
    {
      "cell_type": "code",
      "metadata": {
        "id": "QD1XyjiAQ9j5",
        "colab_type": "code",
        "colab": {}
      },
      "source": [
        "import pandas as pd\n",
        "import numpy as np\n",
        "\n",
        "import spotipy\n",
        "from spotipy import oauth2, Spotify\n",
        "\n",
        "from sklearn.neighbors import NearestNeighbors\n",
        "from sklearn.preprocessing import StandardScaler"
      ],
      "execution_count": 0,
      "outputs": []
    },
    {
      "cell_type": "markdown",
      "metadata": {
        "id": "QKT360cWRL78",
        "colab_type": "text"
      },
      "source": [
        "## Spotify Authentication"
      ]
    },
    {
      "cell_type": "code",
      "metadata": {
        "id": "LwLcujQSRY3X",
        "colab_type": "code",
        "colab": {}
      },
      "source": [
        "# Spotify API authentication\n",
        "cid ='555816fae63a45f29f50f99bbc81393d'\n",
        "secret ='008dc4e8c3e3470c97392be068578540'\n",
        "\n",
        "credentials = oauth2.SpotifyClientCredentials(client_id=cid, client_secret=secret)\n",
        "sp = spotipy.Spotify(client_credentials_manager=credentials)"
      ],
      "execution_count": 0,
      "outputs": []
    },
    {
      "cell_type": "markdown",
      "metadata": {
        "id": "zS_Y96qkRdi-",
        "colab_type": "text"
      },
      "source": [
        "## Track Info Functions"
      ]
    },
    {
      "cell_type": "code",
      "metadata": {
        "id": "o05CapOeRfne",
        "colab_type": "code",
        "colab": {}
      },
      "source": [
        "def fetch_info(artist_name, track_name):\n",
        "  \"\"\"\n",
        "  function to retrieve relevant info on user's input from the Spotify API\n",
        "  user inputs artist name and track name\n",
        "  fxn gets info including the unique track id, album name, id, and cover image,\n",
        "  a sample of the track if exists, and audio feature data for the track\n",
        "  \"\"\"\n",
        "  data = sp.search(q=f'artist:{artist_name} track:{track_name}')\n",
        "  artist_name = data['tracks']['items'][0]['artists'][0]['name']\n",
        "  track_name = data['tracks']['items'][0]['name']\n",
        "  track_id = data['tracks']['items'][0]['id']   \n",
        "  album_name = data['tracks']['items'][0]['album']['name']\n",
        "  album_id = data['tracks']['items'][0]['album']['id']\n",
        "  album_cover_link = data['tracks']['items'][0]['album']['images'][0]['url']\n",
        "  track_sample = data['tracks']['items'][0]['preview_url']\n",
        "  audio_features = sp.audio_features(track_id)\n",
        "  audio_features = audio_features[0] # changes the provided list from spotify into a dictionary\n",
        "  irrelevant = [\"id\", \"uri\", \"analysis_url\", \"type\", \"track_href\"]\n",
        "  for key in irrelevant:\n",
        "    del audio_features[key]\n",
        "  #audio_features = jsonify(audio_features) in FLASK app\n",
        "  return track_name, artist_name, track_id, album_name, album_id, album_cover_link, track_sample, audio_features"
      ],
      "execution_count": 0,
      "outputs": []
    },
    {
      "cell_type": "code",
      "metadata": {
        "id": "aNKwTE-ARqHu",
        "colab_type": "code",
        "outputId": "e8ea3cf1-8ac0-4520-8407-2789c082f760",
        "colab": {
          "base_uri": "https://localhost:8080/",
          "height": 372
        }
      },
      "source": [
        "fetch_info(\"Tame Impala\", \"Borderline\")"
      ],
      "execution_count": 0,
      "outputs": [
        {
          "output_type": "execute_result",
          "data": {
            "text/plain": [
              "('Borderline',\n",
              " 'Tame Impala',\n",
              " '5hM5arv9KDbCHS0k9uqwjr',\n",
              " 'The Slow Rush',\n",
              " '31qVWUdRrlb8thMvts0yYL',\n",
              " 'https://i.scdn.co/image/ab67616d0000b27358267bd34420a00d5cf83a49',\n",
              " None,\n",
              " {'acousticness': 0.0406,\n",
              "  'danceability': 0.621,\n",
              "  'duration_ms': 237800,\n",
              "  'energy': 0.873,\n",
              "  'instrumentalness': 9.1e-06,\n",
              "  'key': 5,\n",
              "  'liveness': 0.0824,\n",
              "  'loudness': -3.067,\n",
              "  'mode': 0,\n",
              "  'speechiness': 0.0369,\n",
              "  'tempo': 97.96,\n",
              "  'time_signature': 4,\n",
              "  'valence': 0.873})"
            ]
          },
          "metadata": {
            "tags": []
          },
          "execution_count": 6
        }
      ]
    },
    {
      "cell_type": "code",
      "metadata": {
        "id": "isZc7w-XRtY6",
        "colab_type": "code",
        "colab": {}
      },
      "source": [
        "def track_feat(track_id):\n",
        "  \"\"\"\n",
        "  function to retrieve relevant info from track ID and store it in a df\n",
        "  \"\"\"\n",
        "  track_features = sp.audio_features(track_id)\n",
        "  track_features = pd.DataFrame(track_features[0], index=[0])\n",
        "  track_features = track_features.drop(columns=[\"id\", \"uri\", \"analysis_url\", \"type\", \"track_href\", \"duration_ms\", \"time_signature\"])\n",
        "  return track_features"
      ],
      "execution_count": 0,
      "outputs": []
    },
    {
      "cell_type": "code",
      "metadata": {
        "id": "D81nrWunR9vh",
        "colab_type": "code",
        "outputId": "8cfcadfc-2a76-4b6a-cfd2-d022d94c04e6",
        "colab": {
          "base_uri": "https://localhost:8080/",
          "height": 77
        }
      },
      "source": [
        "track_feat('5hM5arv9KDbCHS0k9uqwjr')"
      ],
      "execution_count": 0,
      "outputs": [
        {
          "output_type": "execute_result",
          "data": {
            "text/html": [
              "<div>\n",
              "<style scoped>\n",
              "    .dataframe tbody tr th:only-of-type {\n",
              "        vertical-align: middle;\n",
              "    }\n",
              "\n",
              "    .dataframe tbody tr th {\n",
              "        vertical-align: top;\n",
              "    }\n",
              "\n",
              "    .dataframe thead th {\n",
              "        text-align: right;\n",
              "    }\n",
              "</style>\n",
              "<table border=\"1\" class=\"dataframe\">\n",
              "  <thead>\n",
              "    <tr style=\"text-align: right;\">\n",
              "      <th></th>\n",
              "      <th>danceability</th>\n",
              "      <th>energy</th>\n",
              "      <th>key</th>\n",
              "      <th>loudness</th>\n",
              "      <th>mode</th>\n",
              "      <th>speechiness</th>\n",
              "      <th>acousticness</th>\n",
              "      <th>instrumentalness</th>\n",
              "      <th>liveness</th>\n",
              "      <th>valence</th>\n",
              "      <th>tempo</th>\n",
              "    </tr>\n",
              "  </thead>\n",
              "  <tbody>\n",
              "    <tr>\n",
              "      <th>0</th>\n",
              "      <td>0.621</td>\n",
              "      <td>0.873</td>\n",
              "      <td>5</td>\n",
              "      <td>-3.067</td>\n",
              "      <td>0</td>\n",
              "      <td>0.0369</td>\n",
              "      <td>0.0406</td>\n",
              "      <td>0.000009</td>\n",
              "      <td>0.0824</td>\n",
              "      <td>0.873</td>\n",
              "      <td>97.96</td>\n",
              "    </tr>\n",
              "  </tbody>\n",
              "</table>\n",
              "</div>"
            ],
            "text/plain": [
              "   danceability  energy  key  ...  liveness  valence  tempo\n",
              "0         0.621   0.873    5  ...    0.0824    0.873  97.96\n",
              "\n",
              "[1 rows x 11 columns]"
            ]
          },
          "metadata": {
            "tags": []
          },
          "execution_count": 8
        }
      ]
    },
    {
      "cell_type": "markdown",
      "metadata": {
        "id": "NSjjoYHCSRmI",
        "colab_type": "text"
      },
      "source": [
        "## Database\n"
      ]
    },
    {
      "cell_type": "code",
      "metadata": {
        "id": "S7GAgg5LSS0S",
        "colab_type": "code",
        "outputId": "6427a2a0-2d41-4e5c-c040-771b9672322e",
        "colab": {
          "base_uri": "https://localhost:8080/",
          "height": 385
        }
      },
      "source": [
        "# 5/27 created new dataset with top tracks from the past two years\n",
        "\n",
        "tracks = pd.read_csv(\"https://raw.githubusercontent.com/Build-Week-Spotify-Song-Suggester-2/datascience/master/SpotifyTrackFeatures.csv\", error_bad_lines=False)\n",
        "print(tracks.shape)\n",
        "tracks.head()"
      ],
      "execution_count": 0,
      "outputs": [
        {
          "output_type": "stream",
          "text": [
            "(120104, 17)\n"
          ],
          "name": "stdout"
        },
        {
          "output_type": "execute_result",
          "data": {
            "text/html": [
              "<div>\n",
              "<style scoped>\n",
              "    .dataframe tbody tr th:only-of-type {\n",
              "        vertical-align: middle;\n",
              "    }\n",
              "\n",
              "    .dataframe tbody tr th {\n",
              "        vertical-align: top;\n",
              "    }\n",
              "\n",
              "    .dataframe thead th {\n",
              "        text-align: right;\n",
              "    }\n",
              "</style>\n",
              "<table border=\"1\" class=\"dataframe\">\n",
              "  <thead>\n",
              "    <tr style=\"text-align: right;\">\n",
              "      <th></th>\n",
              "      <th>artist_name</th>\n",
              "      <th>track_id</th>\n",
              "      <th>track_name</th>\n",
              "      <th>acousticness</th>\n",
              "      <th>danceability</th>\n",
              "      <th>duration_ms</th>\n",
              "      <th>energy</th>\n",
              "      <th>instrumentalness</th>\n",
              "      <th>key</th>\n",
              "      <th>liveness</th>\n",
              "      <th>loudness</th>\n",
              "      <th>mode</th>\n",
              "      <th>speechiness</th>\n",
              "      <th>tempo</th>\n",
              "      <th>time_signature</th>\n",
              "      <th>valence</th>\n",
              "      <th>popularity</th>\n",
              "    </tr>\n",
              "  </thead>\n",
              "  <tbody>\n",
              "    <tr>\n",
              "      <th>0</th>\n",
              "      <td>YG</td>\n",
              "      <td>2RM4jf1Xa9zPgMGRDiht8O</td>\n",
              "      <td>Big Bank feat. 2 Chainz, Big Sean, Nicki Minaj</td>\n",
              "      <td>0.005820</td>\n",
              "      <td>0.743</td>\n",
              "      <td>238373.0</td>\n",
              "      <td>0.339</td>\n",
              "      <td>0.000</td>\n",
              "      <td>1</td>\n",
              "      <td>0.0812</td>\n",
              "      <td>-7.678</td>\n",
              "      <td>1.0</td>\n",
              "      <td>0.4090</td>\n",
              "      <td>203.927</td>\n",
              "      <td>4.0</td>\n",
              "      <td>0.118</td>\n",
              "      <td>44</td>\n",
              "    </tr>\n",
              "    <tr>\n",
              "      <th>1</th>\n",
              "      <td>YG</td>\n",
              "      <td>1tHDG53xJNGsItRA3vfVgs</td>\n",
              "      <td>BAND DRUM (feat. A$AP Rocky)</td>\n",
              "      <td>0.024400</td>\n",
              "      <td>0.846</td>\n",
              "      <td>214800.0</td>\n",
              "      <td>0.557</td>\n",
              "      <td>0.000</td>\n",
              "      <td>8</td>\n",
              "      <td>0.2860</td>\n",
              "      <td>-7.259</td>\n",
              "      <td>1.0</td>\n",
              "      <td>0.4570</td>\n",
              "      <td>159.009</td>\n",
              "      <td>4.0</td>\n",
              "      <td>0.371</td>\n",
              "      <td>10</td>\n",
              "    </tr>\n",
              "    <tr>\n",
              "      <th>2</th>\n",
              "      <td>R3HAB</td>\n",
              "      <td>6Wosx2euFPMT14UXiWudMy</td>\n",
              "      <td>Radio Silence</td>\n",
              "      <td>0.025000</td>\n",
              "      <td>0.603</td>\n",
              "      <td>138913.0</td>\n",
              "      <td>0.723</td>\n",
              "      <td>0.000</td>\n",
              "      <td>9</td>\n",
              "      <td>0.0824</td>\n",
              "      <td>-5.890</td>\n",
              "      <td>0.0</td>\n",
              "      <td>0.0454</td>\n",
              "      <td>114.966</td>\n",
              "      <td>4.0</td>\n",
              "      <td>0.382</td>\n",
              "      <td>63</td>\n",
              "    </tr>\n",
              "    <tr>\n",
              "      <th>3</th>\n",
              "      <td>Chris Cooq</td>\n",
              "      <td>3J2Jpw61sO7l6Hc7qdYV91</td>\n",
              "      <td>Lactose</td>\n",
              "      <td>0.029400</td>\n",
              "      <td>0.800</td>\n",
              "      <td>125381.0</td>\n",
              "      <td>0.579</td>\n",
              "      <td>0.912</td>\n",
              "      <td>5</td>\n",
              "      <td>0.0994</td>\n",
              "      <td>-12.118</td>\n",
              "      <td>0.0</td>\n",
              "      <td>0.0701</td>\n",
              "      <td>123.003</td>\n",
              "      <td>4.0</td>\n",
              "      <td>0.641</td>\n",
              "      <td>9</td>\n",
              "    </tr>\n",
              "    <tr>\n",
              "      <th>4</th>\n",
              "      <td>Chris Cooq</td>\n",
              "      <td>2jbYvQCyPgX3CdmAzeVeuS</td>\n",
              "      <td>Same - Original mix</td>\n",
              "      <td>0.000035</td>\n",
              "      <td>0.783</td>\n",
              "      <td>124016.0</td>\n",
              "      <td>0.792</td>\n",
              "      <td>0.878</td>\n",
              "      <td>7</td>\n",
              "      <td>0.0332</td>\n",
              "      <td>-10.277</td>\n",
              "      <td>1.0</td>\n",
              "      <td>0.0661</td>\n",
              "      <td>120.047</td>\n",
              "      <td>4.0</td>\n",
              "      <td>0.928</td>\n",
              "      <td>8</td>\n",
              "    </tr>\n",
              "  </tbody>\n",
              "</table>\n",
              "</div>"
            ],
            "text/plain": [
              "  artist_name                track_id  ... valence  popularity\n",
              "0          YG  2RM4jf1Xa9zPgMGRDiht8O  ...   0.118          44\n",
              "1          YG  1tHDG53xJNGsItRA3vfVgs  ...   0.371          10\n",
              "2       R3HAB  6Wosx2euFPMT14UXiWudMy  ...   0.382          63\n",
              "3  Chris Cooq  3J2Jpw61sO7l6Hc7qdYV91  ...   0.641           9\n",
              "4  Chris Cooq  2jbYvQCyPgX3CdmAzeVeuS  ...   0.928           8\n",
              "\n",
              "[5 rows x 17 columns]"
            ]
          },
          "metadata": {
            "tags": []
          },
          "execution_count": 9
        }
      ]
    },
    {
      "cell_type": "code",
      "metadata": {
        "id": "AkhQPvNeSV0-",
        "colab_type": "code",
        "outputId": "ee92b801-f367-4ea8-eca6-cdbf7ba5a740",
        "colab": {
          "base_uri": "https://localhost:8080/",
          "height": 336
        }
      },
      "source": [
        "tracks = pd.DataFrame(tracks)\n",
        "tracks.dtypes"
      ],
      "execution_count": 0,
      "outputs": [
        {
          "output_type": "execute_result",
          "data": {
            "text/plain": [
              "artist_name          object\n",
              "track_id             object\n",
              "track_name           object\n",
              "acousticness        float64\n",
              "danceability        float64\n",
              "duration_ms         float64\n",
              "energy              float64\n",
              "instrumentalness    float64\n",
              "key                   int64\n",
              "liveness            float64\n",
              "loudness            float64\n",
              "mode                float64\n",
              "speechiness         float64\n",
              "tempo               float64\n",
              "time_signature      float64\n",
              "valence             float64\n",
              "popularity            int64\n",
              "dtype: object"
            ]
          },
          "metadata": {
            "tags": []
          },
          "execution_count": 10
        }
      ]
    },
    {
      "cell_type": "code",
      "metadata": {
        "id": "0HQ6X9kOPIbj",
        "colab_type": "code",
        "outputId": "ea92c365-eb09-4229-e719-f6657e14238b",
        "colab": {
          "base_uri": "https://localhost:8080/",
          "height": 34
        }
      },
      "source": [
        "tracks = tracks.drop_duplicates(['track_id'])\n",
        "tracks.shape"
      ],
      "execution_count": 0,
      "outputs": [
        {
          "output_type": "execute_result",
          "data": {
            "text/plain": [
              "(119923, 17)"
            ]
          },
          "metadata": {
            "tags": []
          },
          "execution_count": 11
        }
      ]
    },
    {
      "cell_type": "markdown",
      "metadata": {
        "id": "N63HqMS0Sslp",
        "colab_type": "text"
      },
      "source": [
        "## KNN\n",
        "\n",
        "section for creating and tweaking KNN model"
      ]
    },
    {
      "cell_type": "code",
      "metadata": {
        "id": "vn6T5f5MStzJ",
        "colab_type": "code",
        "colab": {}
      },
      "source": [
        "# scale data and create model\n",
        "\n",
        "mdf = tracks # dataset\n",
        "# track_id = '5hM5arv9KDbCHS0k9uqwjr'\n",
        "target   = ['track_id']\n",
        "features = ['danceability',\n",
        "            'energy',\n",
        "            'key', \n",
        "            'loudness',\n",
        "            'mode',\n",
        "            'speechiness',\n",
        "            'acousticness',\n",
        "            'instrumentalness',\n",
        "            'liveness',\n",
        "            'valence',\n",
        "            'tempo'] # duration, popularity, and time are not good predictors of similarity \n",
        "\n",
        "# features = features.danceability.str.strip(\" \",\"\")\n",
        "X = mdf[features] # .astype('float64')\n",
        "y = mdf[target]\n",
        "\n",
        "# Scale the features to a mean of 0 and a standard deviation of 1.\n",
        "#scaler = StandardScaler()\n",
        "# X = scaler.fit_transform(X)\n",
        "\n",
        "nn = NearestNeighbors(n_neighbors=11, algorithm='kd_tree').fit(X, y) # 11 for top 10 similarities "
      ],
      "execution_count": 0,
      "outputs": []
    },
    {
      "cell_type": "code",
      "metadata": {
        "id": "VapqmazwTEVi",
        "colab_type": "code",
        "colab": {}
      },
      "source": [
        "def testmodel(track_id, ouput = mdf):\n",
        "  \"\"\"\n",
        "  function for testing KNN\n",
        "  \"\"\"\n",
        "  mdf = tracks\n",
        "  # target   = ['track_id']\n",
        "  features = ['danceability',\n",
        "                'energy',\n",
        "                'key', \n",
        "                'loudness',\n",
        "                'mode',\n",
        "                'speechiness',\n",
        "                'acousticness',\n",
        "                'instrumentalness',\n",
        "                'liveness',\n",
        "                'valence',\n",
        "                'tempo']\n",
        "  # get track audio features from track id and put into a df\n",
        "  track_features = sp.audio_features(track_id)\n",
        "  track_features = pd.DataFrame(track_features[0], index=[0])\n",
        "  track_features = track_features.drop(columns=[\"id\", \"uri\", \"analysis_url\", \"type\", \"track_href\", \"duration_ms\", \"time_signature\"])\n",
        "  # apply model to get prediciton\n",
        "  pred = nn.kneighbors(track_features)\n",
        "\n",
        "  return pred"
      ],
      "execution_count": 0,
      "outputs": []
    },
    {
      "cell_type": "code",
      "metadata": {
        "id": "fYy2Kgzm74LX",
        "colab_type": "code",
        "colab": {}
      },
      "source": [
        "track_features = sp.audio_features('0SUClY63fA1awioMFtMYeE')\n",
        "track_features = pd.DataFrame(track_features[0], index=[0])"
      ],
      "execution_count": 0,
      "outputs": []
    },
    {
      "cell_type": "code",
      "metadata": {
        "id": "Twa4y63J8Dhu",
        "colab_type": "code",
        "outputId": "4dc32788-0cd2-48bf-efae-c201e4ee5a38",
        "colab": {
          "base_uri": "https://localhost:8080/"
        }
      },
      "source": [
        "track_features"
      ],
      "execution_count": 0,
      "outputs": [
        {
          "output_type": "execute_result",
          "data": {
            "text/html": [
              "<div>\n",
              "<style scoped>\n",
              "    .dataframe tbody tr th:only-of-type {\n",
              "        vertical-align: middle;\n",
              "    }\n",
              "\n",
              "    .dataframe tbody tr th {\n",
              "        vertical-align: top;\n",
              "    }\n",
              "\n",
              "    .dataframe thead th {\n",
              "        text-align: right;\n",
              "    }\n",
              "</style>\n",
              "<table border=\"1\" class=\"dataframe\">\n",
              "  <thead>\n",
              "    <tr style=\"text-align: right;\">\n",
              "      <th></th>\n",
              "      <th>danceability</th>\n",
              "      <th>energy</th>\n",
              "      <th>key</th>\n",
              "      <th>loudness</th>\n",
              "      <th>mode</th>\n",
              "      <th>speechiness</th>\n",
              "      <th>acousticness</th>\n",
              "      <th>instrumentalness</th>\n",
              "      <th>liveness</th>\n",
              "      <th>valence</th>\n",
              "      <th>tempo</th>\n",
              "      <th>type</th>\n",
              "      <th>id</th>\n",
              "      <th>uri</th>\n",
              "      <th>track_href</th>\n",
              "      <th>analysis_url</th>\n",
              "      <th>duration_ms</th>\n",
              "      <th>time_signature</th>\n",
              "    </tr>\n",
              "  </thead>\n",
              "  <tbody>\n",
              "    <tr>\n",
              "      <th>0</th>\n",
              "      <td>0.39</td>\n",
              "      <td>0.965</td>\n",
              "      <td>0</td>\n",
              "      <td>-3.38</td>\n",
              "      <td>0</td>\n",
              "      <td>0.119</td>\n",
              "      <td>0.0181</td>\n",
              "      <td>0</td>\n",
              "      <td>0.583</td>\n",
              "      <td>0.195</td>\n",
              "      <td>168.006</td>\n",
              "      <td>audio_features</td>\n",
              "      <td>0SUClY63fA1awioMFtMYeE</td>\n",
              "      <td>spotify:track:0SUClY63fA1awioMFtMYeE</td>\n",
              "      <td>https://api.spotify.com/v1/tracks/0SUClY63fA1a...</td>\n",
              "      <td>https://api.spotify.com/v1/audio-analysis/0SUC...</td>\n",
              "      <td>181307</td>\n",
              "      <td>4</td>\n",
              "    </tr>\n",
              "  </tbody>\n",
              "</table>\n",
              "</div>"
            ],
            "text/plain": [
              "   danceability  energy  ...  duration_ms  time_signature\n",
              "0          0.39   0.965  ...       181307               4\n",
              "\n",
              "[1 rows x 18 columns]"
            ]
          },
          "metadata": {
            "tags": []
          },
          "execution_count": 15
        }
      ]
    },
    {
      "cell_type": "code",
      "metadata": {
        "id": "2kY3BexHTYCI",
        "colab_type": "code",
        "outputId": "a032734e-0266-4ae4-9a67-3c84788bd71d",
        "colab": {
          "base_uri": "https://localhost:8080/"
        }
      },
      "source": [
        "testmodel('0SUClY63fA1awioMFtMYeE', mdf)\n",
        "# run model on two tracks to make sure it is actually working/returning different data"
      ],
      "execution_count": 0,
      "outputs": [
        {
          "output_type": "execute_result",
          "data": {
            "text/plain": [
              "(array([[1.15523602, 1.17359574, 1.24663309, 1.46918809, 1.55907674,\n",
              "         1.58694956, 1.59215164, 1.60927302, 1.62633552, 1.63009134,\n",
              "         1.63064454]]),\n",
              " array([[109214,  33254,  15463, 109351,  39696,  49677,  78022,   8970,\n",
              "          16332,  25845, 112343]]))"
            ]
          },
          "metadata": {
            "tags": []
          },
          "execution_count": 16
        }
      ]
    },
    {
      "cell_type": "code",
      "metadata": {
        "id": "1bqNS4NjTVTx",
        "colab_type": "code",
        "outputId": "529bd8fc-9508-4a10-94c3-1fd13fe80f8b",
        "colab": {
          "base_uri": "https://localhost:8080/"
        }
      },
      "source": [
        "testmodel('5hM5arv9KDbCHS0k9uqwjr', mdf)\n",
        "# cool it works, lets try and change the output into something a human will understand"
      ],
      "execution_count": 0,
      "outputs": [
        {
          "output_type": "execute_result",
          "data": {
            "text/plain": [
              "(array([[0.43042175, 0.58710596, 0.71969769, 0.77602114, 0.96806633,\n",
              "         1.05083391, 1.1720763 , 1.17825141, 1.18084383, 1.22232363,\n",
              "         1.24163994]]),\n",
              " array([[  4367,  18947,   5292, 112778,  41403,  48790,  53738,  88818,\n",
              "         108717,  75692, 103851]]))"
            ]
          },
          "metadata": {
            "tags": []
          },
          "execution_count": 17
        }
      ]
    },
    {
      "cell_type": "code",
      "metadata": {
        "id": "HVXJ5ssKTkaZ",
        "colab_type": "code",
        "colab": {}
      },
      "source": [
        "def predict(track_id, ouput = mdf):\n",
        "    \"\"\"\n",
        "    track recommender function\n",
        "    takes track_id input and ouputs a list of 10 similar tracks with artist name\n",
        "    \"\"\"\n",
        "    mdf = tracks\n",
        "    features = ['danceability',\n",
        "                'energy',\n",
        "                'key', \n",
        "                'loudness',\n",
        "                'mode',\n",
        "                'speechiness',\n",
        "                'acousticness',\n",
        "                'instrumentalness',\n",
        "                'liveness',\n",
        "                'valence',\n",
        "                'tempo']\n",
        "\n",
        "    # get track audio features via track id and put into a df\n",
        "    track_features = sp.audio_features(track_id)\n",
        "    track_features = pd.DataFrame(track_features[0], index=[0])\n",
        "    #track_features = track_features.astype(({'track_id': 'int32'}))\n",
        "    track_features = track_features.drop(columns=[\"id\", \"uri\", \"analysis_url\", \"type\", \"track_href\", \"duration_ms\", \"time_signature\"])\n",
        "    pred = nn.kneighbors(track_features)\n",
        "\n",
        "    return_rec = {}\n",
        "    for index,i in enumerate(pred[1][0]):\n",
        "      return_rec[str(index)] = {\"track_name\" : tracks['track_name'].iloc[i],\n",
        "                                   \"artist\" : tracks['artist_name'].iloc[i]}\n",
        "    # probably have to jsonify this in FLASK\n",
        "  \n",
        "    return return_rec"
      ],
      "execution_count": 0,
      "outputs": []
    },
    {
      "cell_type": "code",
      "metadata": {
        "id": "i3rQJRE98tpg",
        "colab_type": "code",
        "colab": {}
      },
      "source": [
        "track_features = sp.audio_features('5hM5arv9KDbCHS0k9uqwjr')\n",
        "track_features = pd.DataFrame(track_features[0], index=[0])\n",
        "#track_features = track_features.astype(({'track_id': 'int32'}))\n",
        "track_features = track_features.drop(columns=[\"id\", \"uri\", \"analysis_url\", \"type\", \"track_href\", \"duration_ms\", \"time_signature\"])\n",
        "pred = nn.kneighbors(track_features)"
      ],
      "execution_count": 0,
      "outputs": []
    },
    {
      "cell_type": "code",
      "metadata": {
        "id": "88XFmBKa9JJw",
        "colab_type": "code",
        "outputId": "6593e53d-dbcd-43b9-941b-0cf8d0deee84",
        "colab": {
          "base_uri": "https://localhost:8080/"
        }
      },
      "source": [
        "pred"
      ],
      "execution_count": 0,
      "outputs": [
        {
          "output_type": "execute_result",
          "data": {
            "text/plain": [
              "(array([[0.43042175, 0.58710596, 0.71969769, 0.77602114, 0.96806633,\n",
              "         1.05083391, 1.1720763 , 1.17825141, 1.18084383, 1.22232363,\n",
              "         1.24163994]]),\n",
              " array([[  4367,  18947,   5292, 112778,  41403,  48790,  53738,  88818,\n",
              "         108717,  75692, 103851]]))"
            ]
          },
          "metadata": {
            "tags": []
          },
          "execution_count": 20
        }
      ]
    },
    {
      "cell_type": "code",
      "metadata": {
        "id": "imfVzvST8zSY",
        "colab_type": "code",
        "colab": {}
      },
      "source": [
        "return_rec = {}\n",
        "for index,i in enumerate(pred[1][0]):\n",
        "    return_rec[str(index)] = {\"track_name\" : tracks['track_name'].iloc[i],\n",
        "                                   \"artist\" : tracks['artist_name'].iloc[i]}\n",
        "    # probabrely have to jsonify this in FLASK"
      ],
      "execution_count": 0,
      "outputs": []
    },
    {
      "cell_type": "code",
      "metadata": {
        "id": "zmDy4l5JAfFR",
        "colab_type": "code",
        "outputId": "2de05632-2b1b-4064-d3ec-bd9f6723f2ac",
        "colab": {
          "base_uri": "https://localhost:8080/"
        }
      },
      "source": [
        "return_rec"
      ],
      "execution_count": 0,
      "outputs": [
        {
          "output_type": "execute_result",
          "data": {
            "text/plain": [
              "{'0': {'artist': 'Hot Shade', 'track_name': 'Wonderchild'},\n",
              " '1': {'artist': 'Los 4', 'track_name': 'Volvere Junto a Ti'},\n",
              " '10': {'artist': 'Stray Kids', 'track_name': 'Question'},\n",
              " '2': {'artist': 'MAX', 'track_name': 'Lights Down Low - Latin Urban Mix'},\n",
              " '3': {'artist': 'Carrie Underwood', 'track_name': 'Drinking Alone'},\n",
              " '4': {'artist': 'uncoolclub', 'track_name': 'Sandglass 모래시계'},\n",
              " '5': {'artist': 'Ravi', 'track_name': 'RAVI DA LOCA'},\n",
              " '6': {'artist': 'Rayven Justice', 'track_name': 'Show You How (feat. AD)'},\n",
              " '7': {'artist': 'Lepa Brena', 'track_name': 'Tako Si Juče'},\n",
              " '8': {'artist': 'DNCE', 'track_name': 'TV In The Morning'},\n",
              " '9': {'artist': 'Dikla', 'track_name': 'אתי'}}"
            ]
          },
          "metadata": {
            "tags": []
          },
          "execution_count": 22
        }
      ]
    },
    {
      "cell_type": "code",
      "metadata": {
        "id": "0VaFFP-w9O9n",
        "colab_type": "code",
        "outputId": "6573bc76-d525-4943-8b98-36107e05ef24",
        "colab": {
          "base_uri": "https://localhost:8080/"
        }
      },
      "source": [
        "return_rec = {}\n",
        "arr = pred[1][0]\n",
        "for index,i in enumerate(arr):\n",
        "    return_rec[str(index)] = {\"track_name\" : tracks['track_name'].iloc[i],\n",
        "                                   \"artist\" : tracks['artist_name'].iloc[i]}\n",
        "return_rec"
      ],
      "execution_count": 0,
      "outputs": [
        {
          "output_type": "execute_result",
          "data": {
            "text/plain": [
              "{'0': {'artist': 'Hot Shade', 'track_name': 'Wonderchild'},\n",
              " '1': {'artist': 'Los 4', 'track_name': 'Volvere Junto a Ti'},\n",
              " '10': {'artist': 'Stray Kids', 'track_name': 'Question'},\n",
              " '2': {'artist': 'MAX', 'track_name': 'Lights Down Low - Latin Urban Mix'},\n",
              " '3': {'artist': 'Carrie Underwood', 'track_name': 'Drinking Alone'},\n",
              " '4': {'artist': 'uncoolclub', 'track_name': 'Sandglass 모래시계'},\n",
              " '5': {'artist': 'Ravi', 'track_name': 'RAVI DA LOCA'},\n",
              " '6': {'artist': 'Rayven Justice', 'track_name': 'Show You How (feat. AD)'},\n",
              " '7': {'artist': 'Lepa Brena', 'track_name': 'Tako Si Juče'},\n",
              " '8': {'artist': 'DNCE', 'track_name': 'TV In The Morning'},\n",
              " '9': {'artist': 'Dikla', 'track_name': 'אתי'}}"
            ]
          },
          "metadata": {
            "tags": []
          },
          "execution_count": 43
        }
      ]
    },
    {
      "cell_type": "code",
      "metadata": {
        "id": "qgTO3mNs9ZOC",
        "colab_type": "code",
        "outputId": "ca7a4011-f424-47c6-d66e-f86d9325d5df",
        "colab": {
          "base_uri": "https://localhost:8080/"
        }
      },
      "source": [
        "return_rec = {}\n",
        "for i in arr:\n",
        "    return_rec[i] = {\"track_name\" : tracks['track_name'].iloc[i],\n",
        "                                   \"artist\" : tracks['artist_name'].iloc[i]}\n",
        "return_rec"
      ],
      "execution_count": 0,
      "outputs": [
        {
          "output_type": "execute_result",
          "data": {
            "text/plain": [
              "{4367: {'artist': 'Hot Shade', 'track_name': 'Wonderchild'},\n",
              " 5292: {'artist': 'MAX', 'track_name': 'Lights Down Low - Latin Urban Mix'},\n",
              " 18947: {'artist': 'Los 4', 'track_name': 'Volvere Junto a Ti'},\n",
              " 41403: {'artist': 'uncoolclub', 'track_name': 'Sandglass 모래시계'},\n",
              " 48790: {'artist': 'Ravi', 'track_name': 'RAVI DA LOCA'},\n",
              " 53738: {'artist': 'Rayven Justice', 'track_name': 'Show You How (feat. AD)'},\n",
              " 75692: {'artist': 'Dikla', 'track_name': 'אתי'},\n",
              " 88818: {'artist': 'Lepa Brena', 'track_name': 'Tako Si Juče'},\n",
              " 103851: {'artist': 'Stray Kids', 'track_name': 'Question'},\n",
              " 108717: {'artist': 'DNCE', 'track_name': 'TV In The Morning'},\n",
              " 112778: {'artist': 'Carrie Underwood', 'track_name': 'Drinking Alone'}}"
            ]
          },
          "metadata": {
            "tags": []
          },
          "execution_count": 44
        }
      ]
    },
    {
      "cell_type": "code",
      "metadata": {
        "id": "hB73ZVbh9xsM",
        "colab_type": "code",
        "outputId": "268a6cbf-4596-49f5-f56c-ec26bf2d647d",
        "colab": {
          "base_uri": "https://localhost:8080/"
        }
      },
      "source": [
        "return_rec"
      ],
      "execution_count": 0,
      "outputs": [
        {
          "output_type": "execute_result",
          "data": {
            "text/plain": [
              "{4367: {'artist': 'Hot Shade', 'track_name': 'Wonderchild'},\n",
              " 5292: {'artist': 'MAX', 'track_name': 'Lights Down Low - Latin Urban Mix'},\n",
              " 18947: {'artist': 'Los 4', 'track_name': 'Volvere Junto a Ti'},\n",
              " 41403: {'artist': 'uncoolclub', 'track_name': 'Sandglass 모래시계'},\n",
              " 48790: {'artist': 'Ravi', 'track_name': 'RAVI DA LOCA'},\n",
              " 53738: {'artist': 'Rayven Justice', 'track_name': 'Show You How (feat. AD)'},\n",
              " 75692: {'artist': 'Dikla', 'track_name': 'אתי'},\n",
              " 88818: {'artist': 'Lepa Brena', 'track_name': 'Tako Si Juče'},\n",
              " 103851: {'artist': 'Stray Kids', 'track_name': 'Question'},\n",
              " 108717: {'artist': 'DNCE', 'track_name': 'TV In The Morning'},\n",
              " 112778: {'artist': 'Carrie Underwood', 'track_name': 'Drinking Alone'}}"
            ]
          },
          "metadata": {
            "tags": []
          },
          "execution_count": 25
        }
      ]
    },
    {
      "cell_type": "code",
      "metadata": {
        "id": "VLkrViq3TuSN",
        "colab_type": "code",
        "outputId": "d4f1aac5-6d1c-4031-84dc-726ef3e9547a",
        "colab": {
          "base_uri": "https://localhost:8080/"
        }
      },
      "source": [
        "predict('0SUClY63fA1awioMFtMYeE', mdf)\n",
        "# so model works but readable output function isnt working as intended"
      ],
      "execution_count": 0,
      "outputs": [
        {
          "output_type": "execute_result",
          "data": {
            "text/plain": [
              "{'0': {'artist': 'Sam Fender', 'track_name': 'Dead Boys'},\n",
              " '1': {'artist': 'Mr. Knightowl', 'track_name': 'The Way You Make Me Feel'},\n",
              " '10': {'artist': 'Passion', 'track_name': 'Reckless Love - Live'},\n",
              " '2': {'artist': 'Geru y Su Legion 7', 'track_name': 'Mujer De Piedra'},\n",
              " '3': {'artist': 'Jayne Denham', 'track_name': 'Hung up on You'},\n",
              " '4': {'artist': 'Imagine Dragons', 'track_name': 'Thunder'},\n",
              " '5': {'artist': 'Grupo Vanguardia', 'track_name': 'Mala Vida No Me Doy'},\n",
              " '6': {'artist': 'The Trews',\n",
              "  'track_name': 'Mistress Misery - No Time for Later Outtake'},\n",
              " '7': {'artist': 'Two Door Cinema Club',\n",
              "  'track_name': 'Cigarettes In The Theatre - Original Demo'},\n",
              " '8': {'artist': 'Elephant Man', 'track_name': 'Rude Bwoy Skank'},\n",
              " '9': {'artist': 'Moophs', 'track_name': 'OMW (feat. Inigo Pascual)'}}"
            ]
          },
          "metadata": {
            "tags": []
          },
          "execution_count": 26
        }
      ]
    },
    {
      "cell_type": "code",
      "metadata": {
        "id": "77IsfjSAT6hx",
        "colab_type": "code",
        "outputId": "ddca48dd-d99c-4458-dd07-c240c18420f5",
        "colab": {
          "base_uri": "https://localhost:8080/"
        }
      },
      "source": [
        "predict('5hM5arv9KDbCHS0k9uqwjr', mdf)\n",
        "# seems to be returning just a list of tracks from the dataset instead of the actual model output(?)"
      ],
      "execution_count": 0,
      "outputs": [
        {
          "output_type": "execute_result",
          "data": {
            "text/plain": [
              "{'0': {'artist': 'Hot Shade', 'track_name': 'Wonderchild'},\n",
              " '1': {'artist': 'Los 4', 'track_name': 'Volvere Junto a Ti'},\n",
              " '10': {'artist': 'Stray Kids', 'track_name': 'Question'},\n",
              " '2': {'artist': 'MAX', 'track_name': 'Lights Down Low - Latin Urban Mix'},\n",
              " '3': {'artist': 'Carrie Underwood', 'track_name': 'Drinking Alone'},\n",
              " '4': {'artist': 'uncoolclub', 'track_name': 'Sandglass 모래시계'},\n",
              " '5': {'artist': 'Ravi', 'track_name': 'RAVI DA LOCA'},\n",
              " '6': {'artist': 'Rayven Justice', 'track_name': 'Show You How (feat. AD)'},\n",
              " '7': {'artist': 'Lepa Brena', 'track_name': 'Tako Si Juče'},\n",
              " '8': {'artist': 'DNCE', 'track_name': 'TV In The Morning'},\n",
              " '9': {'artist': 'Dikla', 'track_name': 'אתי'}}"
            ]
          },
          "metadata": {
            "tags": []
          },
          "execution_count": 27
        }
      ]
    },
    {
      "cell_type": "code",
      "metadata": {
        "id": "gWFhiZAWGvYJ",
        "colab_type": "code",
        "outputId": "c7f4cf8f-1747-41c0-b2f8-cbd65de6de22",
        "colab": {
          "base_uri": "https://localhost:8080/"
        }
      },
      "source": [
        "list_of_predictions = pred[1][0].tolist()\n",
        "list_of_predictions"
      ],
      "execution_count": 0,
      "outputs": [
        {
          "output_type": "execute_result",
          "data": {
            "text/plain": [
              "[4367, 18947, 5292, 112778, 41403, 48790, 53738, 88818, 108717, 75692, 103851]"
            ]
          },
          "metadata": {
            "tags": []
          },
          "execution_count": 28
        }
      ]
    },
    {
      "cell_type": "code",
      "metadata": {
        "id": "6M9GhKSnF32V",
        "colab_type": "code",
        "colab": {}
      },
      "source": [
        "def predict(track_id, ouput = mdf):\n",
        "    \"\"\"\n",
        "    track recommender function\n",
        "    takes track_id input and ouputs a list of 10 similar tracks with artist name\n",
        "    \"\"\"\n",
        "    mdf = tracks\n",
        "    features = ['danceability',\n",
        "                'energy',\n",
        "                'key', \n",
        "                'loudness',\n",
        "                'mode',\n",
        "                'speechiness',\n",
        "                'acousticness',\n",
        "                'instrumentalness',\n",
        "                'liveness',\n",
        "                'valence',\n",
        "                'tempo']\n",
        "\n",
        "    # get track audio features via track id and put into a df\n",
        "    track_features = sp.audio_features(track_id)\n",
        "    track_features = pd.DataFrame(track_features[0], index=[0])\n",
        "    #track_features = track_features.astype(({'track_id': 'int32'}))\n",
        "    track_features = track_features.drop(columns=[\"id\", \"uri\", \"analysis_url\", \"type\", \"track_href\", \"duration_ms\", \"time_signature\"])\n",
        "    pred = nn.kneighbors(track_features)\n",
        "\n",
        "    return_rec = {}\n",
        "    arr = pred[1][0]\n",
        "    for i in arr:\n",
        "        return_rec[i] = {\"track_name\" : tracks['track_name'].iloc[i],\n",
        "                          \"artist\" : tracks['artist_name'].iloc[i]}\n",
        "    # probably have to jsonify this in FLASK\n",
        "    return return_rec"
      ],
      "execution_count": 0,
      "outputs": []
    },
    {
      "cell_type": "markdown",
      "metadata": {
        "id": "R1YGPZw5G-38",
        "colab_type": "text"
      },
      "source": [
        "### add scaling  IGNORE\n"
      ]
    },
    {
      "cell_type": "code",
      "metadata": {
        "id": "kGRQJz10HAVU",
        "colab_type": "code",
        "colab": {}
      },
      "source": [
        "def Spredict(track_id, ouput = mdf):\n",
        "    \"\"\"\n",
        "    track recommender function\n",
        "    takes track_id input and ouputs a list of 10 similar tracks with artist name\n",
        "    \"\"\"\n",
        "    scaler = StandardScaler()\n",
        "    mdf = tracks\n",
        "    features = ['danceability',\n",
        "                'energy',\n",
        "                'key', \n",
        "                'loudness',\n",
        "                'mode',\n",
        "                'speechiness',\n",
        "                'acousticness',\n",
        "                'instrumentalness',\n",
        "                'liveness',\n",
        "                'valence',\n",
        "                'tempo']\n",
        "    # get track audio features via track id and put into a df\n",
        "    track_features = sp.audio_features(track_id)\n",
        "    track_features = pd.DataFrame(track_features[0], index=[0])\n",
        "    #track_features = track_features.astype(({'track_id': 'int32'}))\n",
        "    track_features = track_features.drop(columns=[\"id\", \"uri\", \"analysis_url\", \"type\", \"track_href\", \"duration_ms\", \"time_signature\"])\n",
        "    \n",
        "    scaled_feat = scaler.fit_transform(track_features)\n",
        "    pred = nn.kneighbors(scaled_feat)\n",
        "\n",
        "    return_rec = {}\n",
        "    for index,i in enumerate(pred[1][0]):\n",
        "      return_rec[str(index)] = {\"track_name\" : tracks['track_name'].iloc[i],\n",
        "                                   \"artist\" : tracks['artist_name'].iloc[i]}\n",
        "    # probably have to jsonify this in FLASK\n",
        "  \n",
        "    return return_rec"
      ],
      "execution_count": 0,
      "outputs": []
    },
    {
      "cell_type": "code",
      "metadata": {
        "id": "XAyxvs2WHp2N",
        "colab_type": "code",
        "outputId": "e7b5ac31-64a3-481f-e886-3a070ae555d9",
        "colab": {
          "base_uri": "https://localhost:8080/"
        }
      },
      "source": [
        "# test scaling\n",
        "# input song not scaled\n",
        "# Tame Impala Borderline\n",
        "predict('5hM5arv9KDbCHS0k9uqwjr', mdf)"
      ],
      "execution_count": 0,
      "outputs": [
        {
          "output_type": "execute_result",
          "data": {
            "text/plain": [
              "{'0': {'artist': 'Hot Shade', 'track_name': 'Wonderchild'},\n",
              " '1': {'artist': 'Los 4', 'track_name': 'Volvere Junto a Ti'},\n",
              " '10': {'artist': 'Stray Kids', 'track_name': 'Question'},\n",
              " '2': {'artist': 'MAX', 'track_name': 'Lights Down Low - Latin Urban Mix'},\n",
              " '3': {'artist': 'Carrie Underwood', 'track_name': 'Drinking Alone'},\n",
              " '4': {'artist': 'uncoolclub', 'track_name': 'Sandglass 모래시계'},\n",
              " '5': {'artist': 'Ravi', 'track_name': 'RAVI DA LOCA'},\n",
              " '6': {'artist': 'Rayven Justice', 'track_name': 'Show You How (feat. AD)'},\n",
              " '7': {'artist': 'Lepa Brena', 'track_name': 'Tako Si Juče'},\n",
              " '8': {'artist': 'DNCE', 'track_name': 'TV In The Morning'},\n",
              " '9': {'artist': 'Dikla', 'track_name': 'אתי'}}"
            ]
          },
          "metadata": {
            "tags": []
          },
          "execution_count": 30
        }
      ]
    },
    {
      "cell_type": "code",
      "metadata": {
        "id": "CalRyedaHZhu",
        "colab_type": "code",
        "outputId": "e3a8da8b-7cdc-4824-ae8f-d87fd370e04a",
        "colab": {
          "base_uri": "https://localhost:8080/"
        }
      },
      "source": [
        "# input song scaled \n",
        "Spredict('5hM5arv9KDbCHS0k9uqwjr', mdf)"
      ],
      "execution_count": 0,
      "outputs": [
        {
          "output_type": "execute_result",
          "data": {
            "text/plain": [
              "{'0': {'artist': 'letherette', 'track_name': 'In Love'},\n",
              " '1': {'artist': 'Daniel Miller', 'track_name': 'Drink Da Shot'},\n",
              " '10': {'artist': 'White Noise Sleep Sounds', 'track_name': 'Fall Rise Fall'},\n",
              " '2': {'artist': 'White Noise Babies', 'track_name': 'TV Tuned Out'},\n",
              " '3': {'artist': 'frumhere', 'track_name': 'lan rover'},\n",
              " '4': {'artist': 'BluntOne', 'track_name': 'Akasha'},\n",
              " '5': {'artist': 'Neighborhood Crook', 'track_name': 'Forgien Wit Mans'},\n",
              " '6': {'artist': 'White Noise Baby Sleep',\n",
              "  'track_name': 'Frequency Filtered White'},\n",
              " '7': {'artist': 'Sleep Noise Relax',\n",
              "  'track_name': 'High Hairdryer Looped (Loopable Hair Dryer Sounds)'},\n",
              " '8': {'artist': 'Qawi Kamri', 'track_name': 'Make You Proud'},\n",
              " '9': {'artist': 'Waka Flocka Flame',\n",
              "  'track_name': 'Tune-Up Man Skit (feat. Slim Dunkin)'}}"
            ]
          },
          "metadata": {
            "tags": []
          },
          "execution_count": 31
        }
      ]
    },
    {
      "cell_type": "code",
      "metadata": {
        "id": "92YlZo76Hjqg",
        "colab_type": "code",
        "outputId": "981f91a0-8c2e-4eea-99b5-7e35d3d161b2",
        "colab": {
          "base_uri": "https://localhost:8080/"
        }
      },
      "source": [
        "# britney spears toxic\n",
        "# no scaling\n",
        "predict('4fbaKWFRghusXd4bSBvvfN', mdf)"
      ],
      "execution_count": 0,
      "outputs": [
        {
          "output_type": "execute_result",
          "data": {
            "text/plain": [
              "{'0': {'artist': 'Britney Spears', 'track_name': 'Toxic'},\n",
              " '1': {'artist': 'MC Lyte', 'track_name': 'Get It Started'},\n",
              " '10': {'artist': 'Bazzi', 'track_name': 'Fantasy'},\n",
              " '2': {'artist': 'Reaper Funk', 'track_name': 'Reaper'},\n",
              " '3': {'artist': 'DON BROCO', 'track_name': 'Tightrope'},\n",
              " '4': {'artist': '초록픽하나', 'track_name': '내꺼'},\n",
              " '5': {'artist': 'Our Last Night', 'track_name': 'Fantasy Land'},\n",
              " '6': {'artist': 'Suave', 'track_name': 'Leave'},\n",
              " '7': {'artist': 'Zulma Lockyer', 'track_name': 'Nice Justice'},\n",
              " '8': {'artist': 'XXXTENTACION', 'track_name': 'BAD!'},\n",
              " '9': {'artist': 'LEE KANG', 'track_name': 'In Vain (feat. Yang Da Il)'}}"
            ]
          },
          "metadata": {
            "tags": []
          },
          "execution_count": 32
        }
      ]
    },
    {
      "cell_type": "code",
      "metadata": {
        "id": "20jArDGsH8sv",
        "colab_type": "code",
        "outputId": "75c16b69-c325-424f-9ea9-2441e2c86dbf",
        "colab": {
          "base_uri": "https://localhost:8080/"
        }
      },
      "source": [
        "# input song scaled\n",
        "Spredict('4fbaKWFRghusXd4bSBvvfN', mdf)"
      ],
      "execution_count": 0,
      "outputs": [
        {
          "output_type": "execute_result",
          "data": {
            "text/plain": [
              "{'0': {'artist': 'letherette', 'track_name': 'In Love'},\n",
              " '1': {'artist': 'Daniel Miller', 'track_name': 'Drink Da Shot'},\n",
              " '10': {'artist': 'White Noise Sleep Sounds', 'track_name': 'Fall Rise Fall'},\n",
              " '2': {'artist': 'White Noise Babies', 'track_name': 'TV Tuned Out'},\n",
              " '3': {'artist': 'frumhere', 'track_name': 'lan rover'},\n",
              " '4': {'artist': 'BluntOne', 'track_name': 'Akasha'},\n",
              " '5': {'artist': 'Neighborhood Crook', 'track_name': 'Forgien Wit Mans'},\n",
              " '6': {'artist': 'White Noise Baby Sleep',\n",
              "  'track_name': 'Frequency Filtered White'},\n",
              " '7': {'artist': 'Sleep Noise Relax',\n",
              "  'track_name': 'High Hairdryer Looped (Loopable Hair Dryer Sounds)'},\n",
              " '8': {'artist': 'Qawi Kamri', 'track_name': 'Make You Proud'},\n",
              " '9': {'artist': 'Waka Flocka Flame',\n",
              "  'track_name': 'Tune-Up Man Skit (feat. Slim Dunkin)'}}"
            ]
          },
          "metadata": {
            "tags": []
          },
          "execution_count": 33
        }
      ]
    },
    {
      "cell_type": "code",
      "metadata": {
        "id": "tUc1bwIzMlhk",
        "colab_type": "code",
        "colab": {}
      },
      "source": [
        ""
      ],
      "execution_count": 0,
      "outputs": []
    },
    {
      "cell_type": "markdown",
      "metadata": {
        "id": "CxUigVc62VaS",
        "colab_type": "text"
      },
      "source": [
        "## KNN v2\n",
        "created to help compare our KNN vs NN models\n",
        "scaled , using slightly different input system\n",
        "got incredibly similar results to first KNN"
      ]
    },
    {
      "cell_type": "code",
      "metadata": {
        "id": "CFPTaIpW2rvK",
        "colab_type": "code",
        "colab": {}
      },
      "source": [
        "# test scaling and remake model"
      ],
      "execution_count": 0,
      "outputs": []
    },
    {
      "cell_type": "code",
      "metadata": {
        "id": "FamDKslC2XO2",
        "colab_type": "code",
        "outputId": "0d5935c5-2914-423d-d5c3-337864d12898",
        "colab": {
          "base_uri": "https://localhost:8080/",
          "height": 367
        }
      },
      "source": [
        "modeldf = tracks.copy()\n",
        "modeldf[\"track_index\"] = modeldf.index +1\n",
        "dictionary = modeldf[[\"artist_name\", \"track_name\", \"track_id\", \"track_index\"]]\n",
        "modeldf.head()"
      ],
      "execution_count": 0,
      "outputs": [
        {
          "output_type": "execute_result",
          "data": {
            "text/html": [
              "<div>\n",
              "<style scoped>\n",
              "    .dataframe tbody tr th:only-of-type {\n",
              "        vertical-align: middle;\n",
              "    }\n",
              "\n",
              "    .dataframe tbody tr th {\n",
              "        vertical-align: top;\n",
              "    }\n",
              "\n",
              "    .dataframe thead th {\n",
              "        text-align: right;\n",
              "    }\n",
              "</style>\n",
              "<table border=\"1\" class=\"dataframe\">\n",
              "  <thead>\n",
              "    <tr style=\"text-align: right;\">\n",
              "      <th></th>\n",
              "      <th>artist_name</th>\n",
              "      <th>track_id</th>\n",
              "      <th>track_name</th>\n",
              "      <th>acousticness</th>\n",
              "      <th>danceability</th>\n",
              "      <th>duration_ms</th>\n",
              "      <th>energy</th>\n",
              "      <th>instrumentalness</th>\n",
              "      <th>key</th>\n",
              "      <th>liveness</th>\n",
              "      <th>loudness</th>\n",
              "      <th>mode</th>\n",
              "      <th>speechiness</th>\n",
              "      <th>tempo</th>\n",
              "      <th>time_signature</th>\n",
              "      <th>valence</th>\n",
              "      <th>popularity</th>\n",
              "      <th>track_index</th>\n",
              "    </tr>\n",
              "  </thead>\n",
              "  <tbody>\n",
              "    <tr>\n",
              "      <th>0</th>\n",
              "      <td>YG</td>\n",
              "      <td>2RM4jf1Xa9zPgMGRDiht8O</td>\n",
              "      <td>Big Bank feat. 2 Chainz, Big Sean, Nicki Minaj</td>\n",
              "      <td>0.005820</td>\n",
              "      <td>0.743</td>\n",
              "      <td>238373.0</td>\n",
              "      <td>0.339</td>\n",
              "      <td>0.000</td>\n",
              "      <td>1.0</td>\n",
              "      <td>0.0812</td>\n",
              "      <td>-7.678</td>\n",
              "      <td>1.0</td>\n",
              "      <td>0.4090</td>\n",
              "      <td>203.927</td>\n",
              "      <td>4.0</td>\n",
              "      <td>0.118</td>\n",
              "      <td>44</td>\n",
              "      <td>1</td>\n",
              "    </tr>\n",
              "    <tr>\n",
              "      <th>1</th>\n",
              "      <td>YG</td>\n",
              "      <td>1tHDG53xJNGsItRA3vfVgs</td>\n",
              "      <td>BAND DRUM (feat. A$AP Rocky)</td>\n",
              "      <td>0.024400</td>\n",
              "      <td>0.846</td>\n",
              "      <td>214800.0</td>\n",
              "      <td>0.557</td>\n",
              "      <td>0.000</td>\n",
              "      <td>8.0</td>\n",
              "      <td>0.2860</td>\n",
              "      <td>-7.259</td>\n",
              "      <td>1.0</td>\n",
              "      <td>0.4570</td>\n",
              "      <td>159.009</td>\n",
              "      <td>4.0</td>\n",
              "      <td>0.371</td>\n",
              "      <td>10</td>\n",
              "      <td>2</td>\n",
              "    </tr>\n",
              "    <tr>\n",
              "      <th>2</th>\n",
              "      <td>R3HAB</td>\n",
              "      <td>6Wosx2euFPMT14UXiWudMy</td>\n",
              "      <td>Radio Silence</td>\n",
              "      <td>0.025000</td>\n",
              "      <td>0.603</td>\n",
              "      <td>138913.0</td>\n",
              "      <td>0.723</td>\n",
              "      <td>0.000</td>\n",
              "      <td>9.0</td>\n",
              "      <td>0.0824</td>\n",
              "      <td>-5.890</td>\n",
              "      <td>0.0</td>\n",
              "      <td>0.0454</td>\n",
              "      <td>114.966</td>\n",
              "      <td>4.0</td>\n",
              "      <td>0.382</td>\n",
              "      <td>63</td>\n",
              "      <td>3</td>\n",
              "    </tr>\n",
              "    <tr>\n",
              "      <th>3</th>\n",
              "      <td>Chris Cooq</td>\n",
              "      <td>3J2Jpw61sO7l6Hc7qdYV91</td>\n",
              "      <td>Lactose</td>\n",
              "      <td>0.029400</td>\n",
              "      <td>0.800</td>\n",
              "      <td>125381.0</td>\n",
              "      <td>0.579</td>\n",
              "      <td>0.912</td>\n",
              "      <td>5.0</td>\n",
              "      <td>0.0994</td>\n",
              "      <td>-12.118</td>\n",
              "      <td>0.0</td>\n",
              "      <td>0.0701</td>\n",
              "      <td>123.003</td>\n",
              "      <td>4.0</td>\n",
              "      <td>0.641</td>\n",
              "      <td>9</td>\n",
              "      <td>4</td>\n",
              "    </tr>\n",
              "    <tr>\n",
              "      <th>4</th>\n",
              "      <td>Chris Cooq</td>\n",
              "      <td>2jbYvQCyPgX3CdmAzeVeuS</td>\n",
              "      <td>Same - Original mix</td>\n",
              "      <td>0.000035</td>\n",
              "      <td>0.783</td>\n",
              "      <td>124016.0</td>\n",
              "      <td>0.792</td>\n",
              "      <td>0.878</td>\n",
              "      <td>7.0</td>\n",
              "      <td>0.0332</td>\n",
              "      <td>-10.277</td>\n",
              "      <td>1.0</td>\n",
              "      <td>0.0661</td>\n",
              "      <td>120.047</td>\n",
              "      <td>4.0</td>\n",
              "      <td>0.928</td>\n",
              "      <td>8</td>\n",
              "      <td>5</td>\n",
              "    </tr>\n",
              "  </tbody>\n",
              "</table>\n",
              "</div>"
            ],
            "text/plain": [
              "  artist_name                track_id  ... popularity  track_index\n",
              "0          YG  2RM4jf1Xa9zPgMGRDiht8O  ...         44            1\n",
              "1          YG  1tHDG53xJNGsItRA3vfVgs  ...         10            2\n",
              "2       R3HAB  6Wosx2euFPMT14UXiWudMy  ...         63            3\n",
              "3  Chris Cooq  3J2Jpw61sO7l6Hc7qdYV91  ...          9            4\n",
              "4  Chris Cooq  2jbYvQCyPgX3CdmAzeVeuS  ...          8            5\n",
              "\n",
              "[5 rows x 18 columns]"
            ]
          },
          "metadata": {
            "tags": []
          },
          "execution_count": 55
        }
      ]
    },
    {
      "cell_type": "code",
      "metadata": {
        "id": "cyk6JhWu5hE-",
        "colab_type": "code",
        "outputId": "6cf7e88b-cb78-4b85-bd17-b0468ab12e11",
        "colab": {
          "base_uri": "https://localhost:8080/",
          "height": 217
        }
      },
      "source": [
        "modeldf = modeldf.drop(columns=['artist_name','track_id', 'track_name','duration_ms', 'mode', 'time_signature'])\n",
        "modeldf.head()"
      ],
      "execution_count": 0,
      "outputs": [
        {
          "output_type": "execute_result",
          "data": {
            "text/html": [
              "<div>\n",
              "<style scoped>\n",
              "    .dataframe tbody tr th:only-of-type {\n",
              "        vertical-align: middle;\n",
              "    }\n",
              "\n",
              "    .dataframe tbody tr th {\n",
              "        vertical-align: top;\n",
              "    }\n",
              "\n",
              "    .dataframe thead th {\n",
              "        text-align: right;\n",
              "    }\n",
              "</style>\n",
              "<table border=\"1\" class=\"dataframe\">\n",
              "  <thead>\n",
              "    <tr style=\"text-align: right;\">\n",
              "      <th></th>\n",
              "      <th>acousticness</th>\n",
              "      <th>danceability</th>\n",
              "      <th>energy</th>\n",
              "      <th>instrumentalness</th>\n",
              "      <th>key</th>\n",
              "      <th>liveness</th>\n",
              "      <th>loudness</th>\n",
              "      <th>speechiness</th>\n",
              "      <th>tempo</th>\n",
              "      <th>valence</th>\n",
              "      <th>popularity</th>\n",
              "      <th>track_index</th>\n",
              "    </tr>\n",
              "  </thead>\n",
              "  <tbody>\n",
              "    <tr>\n",
              "      <th>0</th>\n",
              "      <td>0.005820</td>\n",
              "      <td>0.743</td>\n",
              "      <td>0.339</td>\n",
              "      <td>0.000</td>\n",
              "      <td>1.0</td>\n",
              "      <td>0.0812</td>\n",
              "      <td>-7.678</td>\n",
              "      <td>0.4090</td>\n",
              "      <td>203.927</td>\n",
              "      <td>0.118</td>\n",
              "      <td>44</td>\n",
              "      <td>1</td>\n",
              "    </tr>\n",
              "    <tr>\n",
              "      <th>1</th>\n",
              "      <td>0.024400</td>\n",
              "      <td>0.846</td>\n",
              "      <td>0.557</td>\n",
              "      <td>0.000</td>\n",
              "      <td>8.0</td>\n",
              "      <td>0.2860</td>\n",
              "      <td>-7.259</td>\n",
              "      <td>0.4570</td>\n",
              "      <td>159.009</td>\n",
              "      <td>0.371</td>\n",
              "      <td>10</td>\n",
              "      <td>2</td>\n",
              "    </tr>\n",
              "    <tr>\n",
              "      <th>2</th>\n",
              "      <td>0.025000</td>\n",
              "      <td>0.603</td>\n",
              "      <td>0.723</td>\n",
              "      <td>0.000</td>\n",
              "      <td>9.0</td>\n",
              "      <td>0.0824</td>\n",
              "      <td>-5.890</td>\n",
              "      <td>0.0454</td>\n",
              "      <td>114.966</td>\n",
              "      <td>0.382</td>\n",
              "      <td>63</td>\n",
              "      <td>3</td>\n",
              "    </tr>\n",
              "    <tr>\n",
              "      <th>3</th>\n",
              "      <td>0.029400</td>\n",
              "      <td>0.800</td>\n",
              "      <td>0.579</td>\n",
              "      <td>0.912</td>\n",
              "      <td>5.0</td>\n",
              "      <td>0.0994</td>\n",
              "      <td>-12.118</td>\n",
              "      <td>0.0701</td>\n",
              "      <td>123.003</td>\n",
              "      <td>0.641</td>\n",
              "      <td>9</td>\n",
              "      <td>4</td>\n",
              "    </tr>\n",
              "    <tr>\n",
              "      <th>4</th>\n",
              "      <td>0.000035</td>\n",
              "      <td>0.783</td>\n",
              "      <td>0.792</td>\n",
              "      <td>0.878</td>\n",
              "      <td>7.0</td>\n",
              "      <td>0.0332</td>\n",
              "      <td>-10.277</td>\n",
              "      <td>0.0661</td>\n",
              "      <td>120.047</td>\n",
              "      <td>0.928</td>\n",
              "      <td>8</td>\n",
              "      <td>5</td>\n",
              "    </tr>\n",
              "  </tbody>\n",
              "</table>\n",
              "</div>"
            ],
            "text/plain": [
              "   acousticness  danceability  energy  ...  valence  popularity  track_index\n",
              "0      0.005820         0.743   0.339  ...    0.118          44            1\n",
              "1      0.024400         0.846   0.557  ...    0.371          10            2\n",
              "2      0.025000         0.603   0.723  ...    0.382          63            3\n",
              "3      0.029400         0.800   0.579  ...    0.641           9            4\n",
              "4      0.000035         0.783   0.792  ...    0.928           8            5\n",
              "\n",
              "[5 rows x 12 columns]"
            ]
          },
          "metadata": {
            "tags": []
          },
          "execution_count": 56
        }
      ]
    },
    {
      "cell_type": "code",
      "metadata": {
        "id": "7oyYdNtl2rZa",
        "colab_type": "code",
        "colab": {}
      },
      "source": [
        "def predictv2(track_index, ouput = mdf):\n",
        "    \"\"\"\n",
        "    track recommender function\n",
        "    takes track_id input and ouputs a list of 10 similar tracks with artist name\n",
        "    \"\"\"\n",
        "    #scale\n",
        "    scaler = StandardScaler()\n",
        "    df_scaled = scaler.fit_transform(modeldf)\n",
        "\n",
        "    # input track index to actual track index\n",
        "    input_dict = dictionary[dictionary['track_index']==track_index]\n",
        "    given_index = input_dict.index\n",
        "\n",
        "    # KNN model, 11 for top 10\n",
        "    nn = NearestNeighbors(n_neighbors=11, algorithm='kd_tree')\n",
        "    nn.fit(df_scaled)\n",
        "    pred = nn.kneighbors(df_scaled[given_index])\n",
        "\n",
        "    # create list of recommended track indexes\n",
        "    pred_list = pred[1][0].tolist()\n",
        "\n",
        "    # output top 10 recommended tracks\n",
        "    top10 = []\n",
        "    for item in pred_list:\n",
        "      rec_track = dictionary['track_id'].iloc[item]\n",
        "      top10.append(rec_track)\n",
        "    return return_rec"
      ],
      "execution_count": 0,
      "outputs": []
    },
    {
      "cell_type": "code",
      "metadata": {
        "id": "K8thqAUt7yFY",
        "colab_type": "code",
        "outputId": "fc7d16d2-e863-469e-b27d-089f6905481f",
        "colab": {
          "base_uri": "https://localhost:8080/",
          "height": 52
        }
      },
      "source": [
        "print(dictionary[dictionary['track_id']=='5hM5arv9KDbCHS0k9uqwjr'])"
      ],
      "execution_count": 0,
      "outputs": [
        {
          "output_type": "stream",
          "text": [
            "        artist_name  track_name                track_id  track_index\n",
            "118603  Tame Impala  Borderline  5hM5arv9KDbCHS0k9uqwjr       118604\n"
          ],
          "name": "stdout"
        }
      ]
    },
    {
      "cell_type": "code",
      "metadata": {
        "id": "OOQKPgoU78w7",
        "colab_type": "code",
        "outputId": "11142cc3-b20a-4b31-a020-bf5b9055289e",
        "colab": {
          "base_uri": "https://localhost:8080/",
          "height": 212
        }
      },
      "source": [
        "predictv2(118604)"
      ],
      "execution_count": 0,
      "outputs": [
        {
          "output_type": "execute_result",
          "data": {
            "text/plain": [
              "{4367: {'artist': 'Hot Shade', 'track_name': 'Wonderchild'},\n",
              " 5292: {'artist': 'MAX', 'track_name': 'Lights Down Low - Latin Urban Mix'},\n",
              " 18947: {'artist': 'Los 4', 'track_name': 'Volvere Junto a Ti'},\n",
              " 41403: {'artist': 'uncoolclub', 'track_name': 'Sandglass 모래시계'},\n",
              " 48790: {'artist': 'Ravi', 'track_name': 'RAVI DA LOCA'},\n",
              " 53738: {'artist': 'Rayven Justice', 'track_name': 'Show You How (feat. AD)'},\n",
              " 75692: {'artist': 'Dikla', 'track_name': 'אתי'},\n",
              " 88818: {'artist': 'Lepa Brena', 'track_name': 'Tako Si Juče'},\n",
              " 103851: {'artist': 'Stray Kids', 'track_name': 'Question'},\n",
              " 108717: {'artist': 'DNCE', 'track_name': 'TV In The Morning'},\n",
              " 112778: {'artist': 'Carrie Underwood', 'track_name': 'Drinking Alone'}}"
            ]
          },
          "metadata": {
            "tags": []
          },
          "execution_count": 61
        }
      ]
    },
    {
      "cell_type": "code",
      "metadata": {
        "id": "kuryoy1z8GwB",
        "colab_type": "code",
        "outputId": "f1cbb02f-8ead-4431-b75c-7768ecb976cd",
        "colab": {
          "base_uri": "https://localhost:8080/",
          "height": 212
        }
      },
      "source": [
        "predict('5hM5arv9KDbCHS0k9uqwjr', mdf)\n",
        "# returns essentially the same resuls as the 1st KNN"
      ],
      "execution_count": 0,
      "outputs": [
        {
          "output_type": "execute_result",
          "data": {
            "text/plain": [
              "{'0': {'artist': 'Hot Shade', 'track_name': 'Wonderchild'},\n",
              " '1': {'artist': 'Los 4', 'track_name': 'Volvere Junto a Ti'},\n",
              " '10': {'artist': 'Stray Kids', 'track_name': 'Question'},\n",
              " '2': {'artist': 'MAX', 'track_name': 'Lights Down Low - Latin Urban Mix'},\n",
              " '3': {'artist': 'Carrie Underwood', 'track_name': 'Drinking Alone'},\n",
              " '4': {'artist': 'uncoolclub', 'track_name': 'Sandglass 모래시계'},\n",
              " '5': {'artist': 'Ravi', 'track_name': 'RAVI DA LOCA'},\n",
              " '6': {'artist': 'Rayven Justice', 'track_name': 'Show You How (feat. AD)'},\n",
              " '7': {'artist': 'Lepa Brena', 'track_name': 'Tako Si Juče'},\n",
              " '8': {'artist': 'DNCE', 'track_name': 'TV In The Morning'},\n",
              " '9': {'artist': 'Dikla', 'track_name': 'אתי'}}"
            ]
          },
          "metadata": {
            "tags": []
          },
          "execution_count": 62
        }
      ]
    },
    {
      "cell_type": "markdown",
      "metadata": {
        "id": "Fw8rxyyZMmKR",
        "colab_type": "text"
      },
      "source": [
        "## K Means \n",
        "\n",
        "did not turn out as planned, not using"
      ]
    },
    {
      "cell_type": "code",
      "metadata": {
        "id": "8XwEUYdpPzmH",
        "colab_type": "code",
        "colab": {}
      },
      "source": [
        "from sklearn.preprocessing import scale\n",
        "from sklearn.preprocessing import MinMaxScaler\n",
        "from sklearn.cluster import KMeans"
      ],
      "execution_count": 0,
      "outputs": []
    },
    {
      "cell_type": "code",
      "metadata": {
        "id": "4AVNrBQwMxNa",
        "colab_type": "code",
        "outputId": "50a24f84-2cd2-447f-f855-584b5b7c316d",
        "colab": {
          "base_uri": "https://localhost:8080/",
          "height": 367
        }
      },
      "source": [
        "tracks.head()"
      ],
      "execution_count": 0,
      "outputs": [
        {
          "output_type": "execute_result",
          "data": {
            "text/html": [
              "<div>\n",
              "<style scoped>\n",
              "    .dataframe tbody tr th:only-of-type {\n",
              "        vertical-align: middle;\n",
              "    }\n",
              "\n",
              "    .dataframe tbody tr th {\n",
              "        vertical-align: top;\n",
              "    }\n",
              "\n",
              "    .dataframe thead th {\n",
              "        text-align: right;\n",
              "    }\n",
              "</style>\n",
              "<table border=\"1\" class=\"dataframe\">\n",
              "  <thead>\n",
              "    <tr style=\"text-align: right;\">\n",
              "      <th></th>\n",
              "      <th>artist_name</th>\n",
              "      <th>track_id</th>\n",
              "      <th>track_name</th>\n",
              "      <th>acousticness</th>\n",
              "      <th>danceability</th>\n",
              "      <th>duration_ms</th>\n",
              "      <th>energy</th>\n",
              "      <th>instrumentalness</th>\n",
              "      <th>key</th>\n",
              "      <th>liveness</th>\n",
              "      <th>loudness</th>\n",
              "      <th>mode</th>\n",
              "      <th>speechiness</th>\n",
              "      <th>tempo</th>\n",
              "      <th>time_signature</th>\n",
              "      <th>valence</th>\n",
              "      <th>popularity</th>\n",
              "    </tr>\n",
              "  </thead>\n",
              "  <tbody>\n",
              "    <tr>\n",
              "      <th>0</th>\n",
              "      <td>YG</td>\n",
              "      <td>2RM4jf1Xa9zPgMGRDiht8O</td>\n",
              "      <td>Big Bank feat. 2 Chainz, Big Sean, Nicki Minaj</td>\n",
              "      <td>0.005820</td>\n",
              "      <td>0.743</td>\n",
              "      <td>238373.0</td>\n",
              "      <td>0.339</td>\n",
              "      <td>0.000</td>\n",
              "      <td>1</td>\n",
              "      <td>0.0812</td>\n",
              "      <td>-7.678</td>\n",
              "      <td>1.0</td>\n",
              "      <td>0.4090</td>\n",
              "      <td>203.927</td>\n",
              "      <td>4.0</td>\n",
              "      <td>0.118</td>\n",
              "      <td>44</td>\n",
              "    </tr>\n",
              "    <tr>\n",
              "      <th>1</th>\n",
              "      <td>YG</td>\n",
              "      <td>1tHDG53xJNGsItRA3vfVgs</td>\n",
              "      <td>BAND DRUM (feat. A$AP Rocky)</td>\n",
              "      <td>0.024400</td>\n",
              "      <td>0.846</td>\n",
              "      <td>214800.0</td>\n",
              "      <td>0.557</td>\n",
              "      <td>0.000</td>\n",
              "      <td>8</td>\n",
              "      <td>0.2860</td>\n",
              "      <td>-7.259</td>\n",
              "      <td>1.0</td>\n",
              "      <td>0.4570</td>\n",
              "      <td>159.009</td>\n",
              "      <td>4.0</td>\n",
              "      <td>0.371</td>\n",
              "      <td>10</td>\n",
              "    </tr>\n",
              "    <tr>\n",
              "      <th>2</th>\n",
              "      <td>R3HAB</td>\n",
              "      <td>6Wosx2euFPMT14UXiWudMy</td>\n",
              "      <td>Radio Silence</td>\n",
              "      <td>0.025000</td>\n",
              "      <td>0.603</td>\n",
              "      <td>138913.0</td>\n",
              "      <td>0.723</td>\n",
              "      <td>0.000</td>\n",
              "      <td>9</td>\n",
              "      <td>0.0824</td>\n",
              "      <td>-5.890</td>\n",
              "      <td>0.0</td>\n",
              "      <td>0.0454</td>\n",
              "      <td>114.966</td>\n",
              "      <td>4.0</td>\n",
              "      <td>0.382</td>\n",
              "      <td>63</td>\n",
              "    </tr>\n",
              "    <tr>\n",
              "      <th>3</th>\n",
              "      <td>Chris Cooq</td>\n",
              "      <td>3J2Jpw61sO7l6Hc7qdYV91</td>\n",
              "      <td>Lactose</td>\n",
              "      <td>0.029400</td>\n",
              "      <td>0.800</td>\n",
              "      <td>125381.0</td>\n",
              "      <td>0.579</td>\n",
              "      <td>0.912</td>\n",
              "      <td>5</td>\n",
              "      <td>0.0994</td>\n",
              "      <td>-12.118</td>\n",
              "      <td>0.0</td>\n",
              "      <td>0.0701</td>\n",
              "      <td>123.003</td>\n",
              "      <td>4.0</td>\n",
              "      <td>0.641</td>\n",
              "      <td>9</td>\n",
              "    </tr>\n",
              "    <tr>\n",
              "      <th>4</th>\n",
              "      <td>Chris Cooq</td>\n",
              "      <td>2jbYvQCyPgX3CdmAzeVeuS</td>\n",
              "      <td>Same - Original mix</td>\n",
              "      <td>0.000035</td>\n",
              "      <td>0.783</td>\n",
              "      <td>124016.0</td>\n",
              "      <td>0.792</td>\n",
              "      <td>0.878</td>\n",
              "      <td>7</td>\n",
              "      <td>0.0332</td>\n",
              "      <td>-10.277</td>\n",
              "      <td>1.0</td>\n",
              "      <td>0.0661</td>\n",
              "      <td>120.047</td>\n",
              "      <td>4.0</td>\n",
              "      <td>0.928</td>\n",
              "      <td>8</td>\n",
              "    </tr>\n",
              "  </tbody>\n",
              "</table>\n",
              "</div>"
            ],
            "text/plain": [
              "  artist_name                track_id  ... valence  popularity\n",
              "0          YG  2RM4jf1Xa9zPgMGRDiht8O  ...   0.118          44\n",
              "1          YG  1tHDG53xJNGsItRA3vfVgs  ...   0.371          10\n",
              "2       R3HAB  6Wosx2euFPMT14UXiWudMy  ...   0.382          63\n",
              "3  Chris Cooq  3J2Jpw61sO7l6Hc7qdYV91  ...   0.641           9\n",
              "4  Chris Cooq  2jbYvQCyPgX3CdmAzeVeuS  ...   0.928           8\n",
              "\n",
              "[5 rows x 17 columns]"
            ]
          },
          "metadata": {
            "tags": []
          },
          "execution_count": 35
        }
      ]
    },
    {
      "cell_type": "code",
      "metadata": {
        "id": "7aMYj_-HPfm5",
        "colab_type": "code",
        "colab": {}
      },
      "source": [
        "numeric_features = ['acousticness','danceability','energy','instrumentalness',\n",
        "                      'key', 'liveness', 'loudness','mode','speechiness', 'tempo', 'valence']\n",
        "tracks[numeric_features] = tracks[numeric_features].astype(float)                  "
      ],
      "execution_count": 0,
      "outputs": []
    },
    {
      "cell_type": "code",
      "metadata": {
        "id": "qCQDffMrPk5d",
        "colab_type": "code",
        "colab": {}
      },
      "source": [
        "scaler = MinMaxScaler()\n",
        "numeric_features_scaled = scaler.fit_transform(tracks[numeric_features])"
      ],
      "execution_count": 0,
      "outputs": []
    },
    {
      "cell_type": "code",
      "metadata": {
        "id": "TLP_HMfsMnsw",
        "colab_type": "code",
        "colab": {}
      },
      "source": [
        "Sum_of_squared_distances = []\n",
        "Ks = range(1,15)\n",
        "for n in Ks:\n",
        "    km = KMeans(n_clusters=n)\n",
        "    km = km.fit(numeric_features_scaled)\n",
        "    Sum_of_squared_distances.append(km.inertia_)"
      ],
      "execution_count": 0,
      "outputs": []
    },
    {
      "cell_type": "code",
      "metadata": {
        "id": "Nc6_vcbNMnu1",
        "colab_type": "code",
        "colab": {}
      },
      "source": [
        "# score with elbow plot\n",
        "import matplotlib.pyplot as plt\n",
        "\n",
        "fig = plt.figure(figsize=(15, 5))\n",
        "plt.plot(Ks, Sum_of_squared_distances, 'gx-')\n",
        "plt.xlabel('K')\n",
        "plt.ylabel('Sum of Squared Distances')\n",
        "plt.ylim(1000, 100000)\n",
        "plt.title('Elbow Curve for Optimal K')\n",
        "plt.show()"
      ],
      "execution_count": 0,
      "outputs": []
    },
    {
      "cell_type": "code",
      "metadata": {
        "id": "vEnccRrURGit",
        "colab_type": "code",
        "outputId": "2f3765d1-e194-4574-8dcc-590f0d11ee77",
        "colab": {
          "base_uri": "https://localhost:8080/",
          "height": 247
        }
      },
      "source": [
        "# score with silhouette\n",
        "# https://scikit-learn.org/stable/modules/generated/sklearn.metrics.silhouette_score.html\n",
        "from sklearn.metrics import silhouette_score\n",
        "\n",
        "for n_clusters in range(2,15):\n",
        "    clusterer = KMeans(n_clusters=n_clusters)\n",
        "    predictions = clusterer.fit_predict(numeric_features_scaled)\n",
        "    centers = clusterer.cluster_centers_\n",
        "\n",
        "    score = silhouette_score (numeric_features_scaled, predictions, metric='euclidean')\n",
        "    print (f'n_clusters = {n_clusters}, silhouette score = {score})')"
      ],
      "execution_count": 0,
      "outputs": [
        {
          "output_type": "stream",
          "text": [
            "n_clusters = 2, silhouette score = 0.47858913946721454)\n",
            "n_clusters = 3, silhouette score = 0.3804361008588892)\n",
            "n_clusters = 4, silhouette score = 0.3329458465694525)\n",
            "n_clusters = 5, silhouette score = 0.34869072203680523)\n",
            "n_clusters = 6, silhouette score = 0.31178786888196974)\n",
            "n_clusters = 7, silhouette score = 0.31703292845955383)\n",
            "n_clusters = 8, silhouette score = 0.2800163570441867)\n",
            "n_clusters = 9, silhouette score = 0.23585097532692395)\n",
            "n_clusters = 10, silhouette score = 0.23840333857520282)\n",
            "n_clusters = 11, silhouette score = 0.2434673220645147)\n",
            "n_clusters = 12, silhouette score = 0.23689424908901197)\n",
            "n_clusters = 13, silhouette score = 0.23369334115281845)\n",
            "n_clusters = 14, silhouette score = 0.2239925261416675)\n"
          ],
          "name": "stdout"
        }
      ]
    },
    {
      "cell_type": "code",
      "metadata": {
        "id": "d_5Q0ll0bgFn",
        "colab_type": "code",
        "outputId": "3a935835-fcf6-447b-d951-b5668e9e4405",
        "colab": {
          "base_uri": "https://localhost:8080/",
          "height": 70
        }
      },
      "source": [
        "np.random.seed(42)\n",
        "kmeans = KMeans(n_clusters=5)\n",
        "kmeans.fit(numeric_features_scaled)"
      ],
      "execution_count": 0,
      "outputs": [
        {
          "output_type": "execute_result",
          "data": {
            "text/plain": [
              "KMeans(algorithm='auto', copy_x=True, init='k-means++', max_iter=300,\n",
              "       n_clusters=5, n_init=10, n_jobs=None, precompute_distances='auto',\n",
              "       random_state=None, tol=0.0001, verbose=0)"
            ]
          },
          "metadata": {
            "tags": []
          },
          "execution_count": 41
        }
      ]
    },
    {
      "cell_type": "code",
      "metadata": {
        "id": "eKJxmg2dbyXT",
        "colab_type": "code",
        "outputId": "3c31d480-00b1-4452-c92e-792b8caea74f",
        "colab": {
          "base_uri": "https://localhost:8080/",
          "height": 424
        }
      },
      "source": [
        "# visualize\n",
        "# PCA\n",
        "import seaborn as sns\n",
        "from sklearn.decomposition import PCA\n",
        "\n",
        "labels_kmeans = kmeans.predict(numeric_features_scaled)\n",
        "\n",
        "pca = PCA(n_components=2)\n",
        "principal_components = pca.fit_transform(numeric_features_scaled)\n",
        "\n",
        "# plotting clusters\n",
        "\n",
        "pc = pd.DataFrame(principal_components)\n",
        "pc['label'] = labels_kmeans\n",
        "pc.columns = ['x', 'y','label']\n",
        "\n",
        "cluster = sns.lmplot(data=pc, x='x', y='y', hue='label', \n",
        "                   fit_reg=False, legend=True, legend_out=True)"
      ],
      "execution_count": 0,
      "outputs": [
        {
          "output_type": "stream",
          "text": [
            "/usr/local/lib/python3.6/dist-packages/statsmodels/tools/_testing.py:19: FutureWarning: pandas.util.testing is deprecated. Use the functions in the public API at pandas.testing instead.\n",
            "  import pandas.util.testing as tm\n"
          ],
          "name": "stderr"
        },
        {
          "output_type": "display_data",
          "data": {
            "image/png": "[encoded data removed]",
            "text/plain": [
              "<Figure size 402.375x360 with 1 Axes>"
            ]
          },
          "metadata": {
            "tags": [],
            "needs_background": "light"
          }
        }
      ]
    },
    {
      "cell_type": "code",
      "metadata": {
        "id": "OCD1CJMtcGnB",
        "colab_type": "code",
        "colab": {}
      },
      "source": [
        ""
      ],
      "execution_count": 0,
      "outputs": []
    }
  ]
}